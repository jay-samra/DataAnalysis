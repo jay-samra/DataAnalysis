{
 "cells": [
  {
   "cell_type": "code",
   "execution_count": 27,
   "id": "5a7f2de8-f781-439a-98da-eb4c60f7adb6",
   "metadata": {},
   "outputs": [],
   "source": [
    "import pandas as pd\n",
    "import numpy as np\n",
    "import plotly.express as px\n",
    "df = pd.read_csv('LawsProtectingWomen.csv', encoding='ISO-8859-1')"
   ]
  },
  {
   "cell_type": "code",
   "execution_count": 77,
   "id": "3851d6ab-e829-46ae-b46f-266eea2e37c6",
   "metadata": {},
   "outputs": [
    {
     "data": {
      "text/html": [
       "<div>\n",
       "<style scoped>\n",
       "    .dataframe tbody tr th:only-of-type {\n",
       "        vertical-align: middle;\n",
       "    }\n",
       "\n",
       "    .dataframe tbody tr th {\n",
       "        vertical-align: top;\n",
       "    }\n",
       "\n",
       "    .dataframe thead th {\n",
       "        text-align: right;\n",
       "    }\n",
       "</style>\n",
       "<table border=\"1\" class=\"dataframe\">\n",
       "  <thead>\n",
       "    <tr style=\"text-align: right;\">\n",
       "      <th></th>\n",
       "      <th>Series Name</th>\n",
       "      <th>Series Code</th>\n",
       "      <th>Country</th>\n",
       "      <th>code</th>\n",
       "      <th>1990 [YR1990]</th>\n",
       "      <th>2000 [YR2000]</th>\n",
       "      <th>2014 [YR2014]</th>\n",
       "      <th>2015 [YR2015]</th>\n",
       "      <th>2016 [YR2016]</th>\n",
       "      <th>2017 [YR2017]</th>\n",
       "      <th>2018 [YR2018]</th>\n",
       "      <th>2019 [YR2019]</th>\n",
       "      <th>2020 [YR2020]</th>\n",
       "      <th>2021 [YR2021]</th>\n",
       "      <th>2022 [YR2022]</th>\n",
       "      <th>2023</th>\n",
       "      <th>lawStatus</th>\n",
       "    </tr>\n",
       "  </thead>\n",
       "  <tbody>\n",
       "    <tr>\n",
       "      <th>0</th>\n",
       "      <td>There is legislation specifically addressing d...</td>\n",
       "      <td>SG.LEG.DVAW</td>\n",
       "      <td>Afghanistan</td>\n",
       "      <td>AFG</td>\n",
       "      <td>0</td>\n",
       "      <td>0</td>\n",
       "      <td>0</td>\n",
       "      <td>0</td>\n",
       "      <td>0</td>\n",
       "      <td>0</td>\n",
       "      <td>0</td>\n",
       "      <td>0</td>\n",
       "      <td>0</td>\n",
       "      <td>0</td>\n",
       "      <td>0</td>\n",
       "      <td>0</td>\n",
       "      <td>NaN</td>\n",
       "    </tr>\n",
       "    <tr>\n",
       "      <th>1</th>\n",
       "      <td>There is legislation specifically addressing d...</td>\n",
       "      <td>SG.LEG.DVAW</td>\n",
       "      <td>Albania</td>\n",
       "      <td>ALB</td>\n",
       "      <td>0</td>\n",
       "      <td>0</td>\n",
       "      <td>1</td>\n",
       "      <td>1</td>\n",
       "      <td>1</td>\n",
       "      <td>1</td>\n",
       "      <td>1</td>\n",
       "      <td>1</td>\n",
       "      <td>1</td>\n",
       "      <td>1</td>\n",
       "      <td>1</td>\n",
       "      <td>1</td>\n",
       "      <td>NaN</td>\n",
       "    </tr>\n",
       "    <tr>\n",
       "      <th>2</th>\n",
       "      <td>There is legislation specifically addressing d...</td>\n",
       "      <td>SG.LEG.DVAW</td>\n",
       "      <td>Algeria</td>\n",
       "      <td>DZA</td>\n",
       "      <td>0</td>\n",
       "      <td>0</td>\n",
       "      <td>0</td>\n",
       "      <td>0</td>\n",
       "      <td>1</td>\n",
       "      <td>1</td>\n",
       "      <td>1</td>\n",
       "      <td>1</td>\n",
       "      <td>1</td>\n",
       "      <td>1</td>\n",
       "      <td>1</td>\n",
       "      <td>1</td>\n",
       "      <td>NaN</td>\n",
       "    </tr>\n",
       "    <tr>\n",
       "      <th>3</th>\n",
       "      <td>There is legislation specifically addressing d...</td>\n",
       "      <td>SG.LEG.DVAW</td>\n",
       "      <td>American Samoa</td>\n",
       "      <td>ASM</td>\n",
       "      <td>..</td>\n",
       "      <td>..</td>\n",
       "      <td>..</td>\n",
       "      <td>..</td>\n",
       "      <td>..</td>\n",
       "      <td>..</td>\n",
       "      <td>..</td>\n",
       "      <td>..</td>\n",
       "      <td>..</td>\n",
       "      <td>..</td>\n",
       "      <td>..</td>\n",
       "      <td>..</td>\n",
       "      <td>NaN</td>\n",
       "    </tr>\n",
       "    <tr>\n",
       "      <th>4</th>\n",
       "      <td>There is legislation specifically addressing d...</td>\n",
       "      <td>SG.LEG.DVAW</td>\n",
       "      <td>Andorra</td>\n",
       "      <td>AND</td>\n",
       "      <td>..</td>\n",
       "      <td>..</td>\n",
       "      <td>..</td>\n",
       "      <td>..</td>\n",
       "      <td>..</td>\n",
       "      <td>..</td>\n",
       "      <td>..</td>\n",
       "      <td>..</td>\n",
       "      <td>..</td>\n",
       "      <td>..</td>\n",
       "      <td>..</td>\n",
       "      <td>..</td>\n",
       "      <td>NaN</td>\n",
       "    </tr>\n",
       "  </tbody>\n",
       "</table>\n",
       "</div>"
      ],
      "text/plain": [
       "                                         Series Name  Series Code  \\\n",
       "0  There is legislation specifically addressing d...  SG.LEG.DVAW   \n",
       "1  There is legislation specifically addressing d...  SG.LEG.DVAW   \n",
       "2  There is legislation specifically addressing d...  SG.LEG.DVAW   \n",
       "3  There is legislation specifically addressing d...  SG.LEG.DVAW   \n",
       "4  There is legislation specifically addressing d...  SG.LEG.DVAW   \n",
       "\n",
       "          Country code 1990 [YR1990] 2000 [YR2000] 2014 [YR2014]  \\\n",
       "0     Afghanistan  AFG             0             0             0   \n",
       "1         Albania  ALB             0             0             1   \n",
       "2         Algeria  DZA             0             0             0   \n",
       "3  American Samoa  ASM            ..            ..            ..   \n",
       "4         Andorra  AND            ..            ..            ..   \n",
       "\n",
       "  2015 [YR2015] 2016 [YR2016] 2017 [YR2017] 2018 [YR2018] 2019 [YR2019]  \\\n",
       "0             0             0             0             0             0   \n",
       "1             1             1             1             1             1   \n",
       "2             0             1             1             1             1   \n",
       "3            ..            ..            ..            ..            ..   \n",
       "4            ..            ..            ..            ..            ..   \n",
       "\n",
       "  2020 [YR2020] 2021 [YR2021] 2022 [YR2022] 2023 lawStatus  \n",
       "0             0             0             0    0       NaN  \n",
       "1             1             1             1    1       NaN  \n",
       "2             1             1             1    1       NaN  \n",
       "3            ..            ..            ..   ..       NaN  \n",
       "4            ..            ..            ..   ..       NaN  "
      ]
     },
     "execution_count": 77,
     "metadata": {},
     "output_type": "execute_result"
    }
   ],
   "source": [
    "df = df.rename(columns={'Country Code': 'code', '2023 [YR2023]' : '2023', 'Country Name':'Country'})\n",
    "df.head(5)"
   ]
  },
  {
   "cell_type": "markdown",
   "id": "cca1bb5d-d148-48c4-9458-f37258d658f2",
   "metadata": {},
   "source": [
    "*Global Statistics*\n",
    "=============="
   ]
  },
  {
   "cell_type": "code",
   "execution_count": 155,
   "id": "9eef92f5-e9d6-4ee1-baba-f694c4eb189e",
   "metadata": {},
   "outputs": [
    {
     "data": {
      "application/vnd.plotly.v1+json": {
       "config": {
        "plotlyServerURL": "https://plot.ly"
       },
       "data": [
        {
         "colorscale": [
          [
           0,
           "#636efa"
          ],
          [
           1,
           "#636efa"
          ]
         ],
         "customdata": [
          [
           "No Protections Exist",
           "0",
           "AFG"
          ],
          [
           "No Protections Exist",
           "0",
           "CMR"
          ],
          [
           "No Protections Exist",
           "0",
           "COD"
          ],
          [
           "No Protections Exist",
           "0",
           "GNQ"
          ],
          [
           "No Protections Exist",
           "0",
           "ERI"
          ],
          [
           "No Protections Exist",
           "0",
           "EST"
          ],
          [
           "No Protections Exist",
           "0",
           "GIN"
          ],
          [
           "No Protections Exist",
           "0",
           "HTI"
          ],
          [
           "No Protections Exist",
           "0",
           "IRN"
          ],
          [
           "No Protections Exist",
           "0",
           "IRQ"
          ],
          [
           "No Protections Exist",
           "0",
           "LBY"
          ],
          [
           "No Protections Exist",
           "0",
           "MLI"
          ],
          [
           "No Protections Exist",
           "0",
           "MRT"
          ],
          [
           "No Protections Exist",
           "0",
           "MMR"
          ],
          [
           "No Protections Exist",
           "0",
           "NER"
          ],
          [
           "No Protections Exist",
           "0",
           "OMN"
          ],
          [
           "No Protections Exist",
           "0",
           "QAT"
          ],
          [
           "No Protections Exist",
           "0",
           "RUS"
          ],
          [
           "No Protections Exist",
           "0",
           "SOM"
          ],
          [
           "No Protections Exist",
           "0",
           "SSD"
          ],
          [
           "No Protections Exist",
           "0",
           "SDN"
          ],
          [
           "No Protections Exist",
           "0",
           "SYR"
          ],
          [
           "No Protections Exist",
           "0",
           "TZA"
          ],
          [
           "No Protections Exist",
           "0",
           "PSE"
          ],
          [
           "No Protections Exist",
           "0",
           "YEM"
          ]
         ],
         "geo": "geo",
         "hovertemplate": "<b>%{hovertext}</b><br><br>lawStatus=%{customdata[0]}<extra></extra>",
         "hovertext": [
          "Afghanistan",
          "Cameroon",
          "Congo, Dem. Rep.",
          "Equatorial Guinea",
          "Eritrea",
          "Estonia",
          "Guinea",
          "Haiti",
          "Iran, Islamic Rep.",
          "Iraq",
          "Libya",
          "Mali",
          "Mauritania",
          "Myanmar",
          "Niger",
          "Oman",
          "Qatar",
          "Russian Federation",
          "Somalia",
          "South Sudan",
          "Sudan",
          "Syrian Arab Republic",
          "Tanzania",
          "West Bank and Gaza",
          "Yemen, Rep."
         ],
         "locations": [
          "AFG",
          "CMR",
          "COD",
          "GNQ",
          "ERI",
          "EST",
          "GIN",
          "HTI",
          "IRN",
          "IRQ",
          "LBY",
          "MLI",
          "MRT",
          "MMR",
          "NER",
          "OMN",
          "QAT",
          "RUS",
          "SOM",
          "SSD",
          "SDN",
          "SYR",
          "TZA",
          "PSE",
          "YEM"
         ],
         "name": "0",
         "showlegend": true,
         "showscale": false,
         "type": "choropleth",
         "z": [
          1,
          1,
          1,
          1,
          1,
          1,
          1,
          1,
          1,
          1,
          1,
          1,
          1,
          1,
          1,
          1,
          1,
          1,
          1,
          1,
          1,
          1,
          1,
          1,
          1
         ]
        },
        {
         "colorscale": [
          [
           0,
           "#EF553B"
          ],
          [
           1,
           "#EF553B"
          ]
         ],
         "customdata": [
          [
           "Protections Exist",
           "1",
           "ALB"
          ],
          [
           "Protections Exist",
           "1",
           "DZA"
          ],
          [
           "Protections Exist",
           "1",
           "AGO"
          ],
          [
           "Protections Exist",
           "1",
           "ATG"
          ],
          [
           "Protections Exist",
           "1",
           "ARG"
          ],
          [
           "Protections Exist",
           "1",
           "ARM"
          ],
          [
           "Protections Exist",
           "1",
           "AUS"
          ],
          [
           "Protections Exist",
           "1",
           "AUT"
          ],
          [
           "Protections Exist",
           "1",
           "AZE"
          ],
          [
           "Protections Exist",
           "1",
           "BHS"
          ],
          [
           "Protections Exist",
           "1",
           "BHR"
          ],
          [
           "Protections Exist",
           "1",
           "BGD"
          ],
          [
           "Protections Exist",
           "1",
           "BRB"
          ],
          [
           "Protections Exist",
           "1",
           "BLR"
          ],
          [
           "Protections Exist",
           "1",
           "BEL"
          ],
          [
           "Protections Exist",
           "1",
           "BLZ"
          ],
          [
           "Protections Exist",
           "1",
           "BEN"
          ],
          [
           "Protections Exist",
           "1",
           "BTN"
          ],
          [
           "Protections Exist",
           "1",
           "BOL"
          ],
          [
           "Protections Exist",
           "1",
           "BIH"
          ],
          [
           "Protections Exist",
           "1",
           "BWA"
          ],
          [
           "Protections Exist",
           "1",
           "BRA"
          ],
          [
           "Protections Exist",
           "1",
           "BRN"
          ],
          [
           "Protections Exist",
           "1",
           "BGR"
          ],
          [
           "Protections Exist",
           "1",
           "BFA"
          ],
          [
           "Protections Exist",
           "1",
           "BDI"
          ],
          [
           "Protections Exist",
           "1",
           "CPV"
          ],
          [
           "Protections Exist",
           "1",
           "KHM"
          ],
          [
           "Protections Exist",
           "1",
           "CAN"
          ],
          [
           "Protections Exist",
           "1",
           "CAF"
          ],
          [
           "Protections Exist",
           "1",
           "TCD"
          ],
          [
           "Protections Exist",
           "1",
           "CHL"
          ],
          [
           "Protections Exist",
           "1",
           "CHN"
          ],
          [
           "Protections Exist",
           "1",
           "COL"
          ],
          [
           "Protections Exist",
           "1",
           "COM"
          ],
          [
           "Protections Exist",
           "1",
           "COG"
          ],
          [
           "Protections Exist",
           "1",
           "CRI"
          ],
          [
           "Protections Exist",
           "1",
           "CIV"
          ],
          [
           "Protections Exist",
           "1",
           "HRV"
          ],
          [
           "Protections Exist",
           "1",
           "CYP"
          ],
          [
           "Protections Exist",
           "1",
           "CZE"
          ],
          [
           "Protections Exist",
           "1",
           "DNK"
          ],
          [
           "Protections Exist",
           "1",
           "DJI"
          ],
          [
           "Protections Exist",
           "1",
           "DMA"
          ],
          [
           "Protections Exist",
           "1",
           "DOM"
          ],
          [
           "Protections Exist",
           "1",
           "ECU"
          ],
          [
           "Protections Exist",
           "1",
           "EGY"
          ],
          [
           "Protections Exist",
           "1",
           "SLV"
          ],
          [
           "Protections Exist",
           "1",
           "SWZ"
          ],
          [
           "Protections Exist",
           "1",
           "ETH"
          ],
          [
           "Protections Exist",
           "1",
           "FJI"
          ],
          [
           "Protections Exist",
           "1",
           "FIN"
          ],
          [
           "Protections Exist",
           "1",
           "FRA"
          ],
          [
           "Protections Exist",
           "1",
           "GAB"
          ],
          [
           "Protections Exist",
           "1",
           "GMB"
          ],
          [
           "Protections Exist",
           "1",
           "GEO"
          ],
          [
           "Protections Exist",
           "1",
           "DEU"
          ],
          [
           "Protections Exist",
           "1",
           "GHA"
          ],
          [
           "Protections Exist",
           "1",
           "GRC"
          ],
          [
           "Protections Exist",
           "1",
           "GRD"
          ],
          [
           "Protections Exist",
           "1",
           "GTM"
          ],
          [
           "Protections Exist",
           "1",
           "GNB"
          ],
          [
           "Protections Exist",
           "1",
           "GUY"
          ],
          [
           "Protections Exist",
           "1",
           "HND"
          ],
          [
           "Protections Exist",
           "1",
           "HKG"
          ],
          [
           "Protections Exist",
           "1",
           "HUN"
          ],
          [
           "Protections Exist",
           "1",
           "ISL"
          ],
          [
           "Protections Exist",
           "1",
           "IND"
          ],
          [
           "Protections Exist",
           "1",
           "IDN"
          ],
          [
           "Protections Exist",
           "1",
           "IRL"
          ],
          [
           "Protections Exist",
           "1",
           "ISR"
          ],
          [
           "Protections Exist",
           "1",
           "ITA"
          ],
          [
           "Protections Exist",
           "1",
           "JAM"
          ],
          [
           "Protections Exist",
           "1",
           "JPN"
          ],
          [
           "Protections Exist",
           "1",
           "JOR"
          ],
          [
           "Protections Exist",
           "1",
           "KAZ"
          ],
          [
           "Protections Exist",
           "1",
           "KEN"
          ],
          [
           "Protections Exist",
           "1",
           "KIR"
          ],
          [
           "Protections Exist",
           "1",
           "KOR"
          ],
          [
           "Protections Exist",
           "1",
           "XKX"
          ],
          [
           "Protections Exist",
           "1",
           "KWT"
          ],
          [
           "Protections Exist",
           "1",
           "KGZ"
          ],
          [
           "Protections Exist",
           "1",
           "LAO"
          ],
          [
           "Protections Exist",
           "1",
           "LVA"
          ],
          [
           "Protections Exist",
           "1",
           "LBN"
          ],
          [
           "Protections Exist",
           "1",
           "LSO"
          ],
          [
           "Protections Exist",
           "1",
           "LBR"
          ],
          [
           "Protections Exist",
           "1",
           "LTU"
          ],
          [
           "Protections Exist",
           "1",
           "LUX"
          ],
          [
           "Protections Exist",
           "1",
           "MDG"
          ],
          [
           "Protections Exist",
           "1",
           "MWI"
          ],
          [
           "Protections Exist",
           "1",
           "MYS"
          ],
          [
           "Protections Exist",
           "1",
           "MDV"
          ],
          [
           "Protections Exist",
           "1",
           "MLT"
          ],
          [
           "Protections Exist",
           "1",
           "MHL"
          ],
          [
           "Protections Exist",
           "1",
           "MUS"
          ],
          [
           "Protections Exist",
           "1",
           "MEX"
          ],
          [
           "Protections Exist",
           "1",
           "FSM"
          ],
          [
           "Protections Exist",
           "1",
           "MDA"
          ],
          [
           "Protections Exist",
           "1",
           "MNG"
          ],
          [
           "Protections Exist",
           "1",
           "MNE"
          ],
          [
           "Protections Exist",
           "1",
           "MAR"
          ],
          [
           "Protections Exist",
           "1",
           "MOZ"
          ],
          [
           "Protections Exist",
           "1",
           "NAM"
          ],
          [
           "Protections Exist",
           "1",
           "NPL"
          ],
          [
           "Protections Exist",
           "1",
           "NLD"
          ],
          [
           "Protections Exist",
           "1",
           "NZL"
          ],
          [
           "Protections Exist",
           "1",
           "NIC"
          ],
          [
           "Protections Exist",
           "1",
           "NGA"
          ],
          [
           "Protections Exist",
           "1",
           "MKD"
          ],
          [
           "Protections Exist",
           "1",
           "NOR"
          ],
          [
           "Protections Exist",
           "1",
           "PAK"
          ],
          [
           "Protections Exist",
           "1",
           "PLW"
          ],
          [
           "Protections Exist",
           "1",
           "PAN"
          ],
          [
           "Protections Exist",
           "1",
           "PNG"
          ],
          [
           "Protections Exist",
           "1",
           "PRY"
          ],
          [
           "Protections Exist",
           "1",
           "PER"
          ],
          [
           "Protections Exist",
           "1",
           "PHL"
          ],
          [
           "Protections Exist",
           "1",
           "POL"
          ],
          [
           "Protections Exist",
           "1",
           "PRT"
          ],
          [
           "Protections Exist",
           "1",
           "PRI"
          ],
          [
           "Protections Exist",
           "1",
           "ROU"
          ],
          [
           "Protections Exist",
           "1",
           "RWA"
          ],
          [
           "Protections Exist",
           "1",
           "WSM"
          ],
          [
           "Protections Exist",
           "1",
           "SMR"
          ],
          [
           "Protections Exist",
           "1",
           "STP"
          ],
          [
           "Protections Exist",
           "1",
           "SAU"
          ],
          [
           "Protections Exist",
           "1",
           "SEN"
          ],
          [
           "Protections Exist",
           "1",
           "SRB"
          ],
          [
           "Protections Exist",
           "1",
           "SYC"
          ],
          [
           "Protections Exist",
           "1",
           "SLE"
          ],
          [
           "Protections Exist",
           "1",
           "SGP"
          ],
          [
           "Protections Exist",
           "1",
           "SVK"
          ],
          [
           "Protections Exist",
           "1",
           "SVN"
          ],
          [
           "Protections Exist",
           "1",
           "SLB"
          ],
          [
           "Protections Exist",
           "1",
           "ZAF"
          ],
          [
           "Protections Exist",
           "1",
           "ESP"
          ],
          [
           "Protections Exist",
           "1",
           "LKA"
          ],
          [
           "Protections Exist",
           "1",
           "KNA"
          ],
          [
           "Protections Exist",
           "1",
           "LCA"
          ],
          [
           "Protections Exist",
           "1",
           "VCT"
          ],
          [
           "Protections Exist",
           "1",
           "SUR"
          ],
          [
           "Protections Exist",
           "1",
           "SWE"
          ],
          [
           "Protections Exist",
           "1",
           "CHE"
          ],
          [
           "Protections Exist",
           "1",
           "TJK"
          ],
          [
           "Protections Exist",
           "1",
           "THA"
          ],
          [
           "Protections Exist",
           "1",
           "TLS"
          ],
          [
           "Protections Exist",
           "1",
           "TGO"
          ],
          [
           "Protections Exist",
           "1",
           "TON"
          ],
          [
           "Protections Exist",
           "1",
           "TTO"
          ],
          [
           "Protections Exist",
           "1",
           "TUN"
          ],
          [
           "Protections Exist",
           "1",
           "TUR"
          ],
          [
           "Protections Exist",
           "1",
           "UGA"
          ],
          [
           "Protections Exist",
           "1",
           "UKR"
          ],
          [
           "Protections Exist",
           "1",
           "ARE"
          ],
          [
           "Protections Exist",
           "1",
           "GBR"
          ],
          [
           "Protections Exist",
           "1",
           "USA"
          ],
          [
           "Protections Exist",
           "1",
           "URY"
          ],
          [
           "Protections Exist",
           "1",
           "UZB"
          ],
          [
           "Protections Exist",
           "1",
           "VUT"
          ],
          [
           "Protections Exist",
           "1",
           "VEN"
          ],
          [
           "Protections Exist",
           "1",
           "VNM"
          ],
          [
           "Protections Exist",
           "1",
           "ZMB"
          ],
          [
           "Protections Exist",
           "1",
           "ZWE"
          ]
         ],
         "geo": "geo",
         "hovertemplate": "<b>%{hovertext}</b><br><br>lawStatus=%{customdata[0]}<extra></extra>",
         "hovertext": [
          "Albania",
          "Algeria",
          "Angola",
          "Antigua and Barbuda",
          "Argentina",
          "Armenia",
          "Australia",
          "Austria",
          "Azerbaijan",
          "Bahamas, The",
          "Bahrain",
          "Bangladesh",
          "Barbados",
          "Belarus",
          "Belgium",
          "Belize",
          "Benin",
          "Bhutan",
          "Bolivia",
          "Bosnia and Herzegovina",
          "Botswana",
          "Brazil",
          "Brunei Darussalam",
          "Bulgaria",
          "Burkina Faso",
          "Burundi",
          "Cabo Verde",
          "Cambodia",
          "Canada",
          "Central African Republic",
          "Chad",
          "Chile",
          "China",
          "Colombia",
          "Comoros",
          "Congo, Rep.",
          "Costa Rica",
          "Cote d'Ivoire",
          "Croatia",
          "Cyprus",
          "Czechia",
          "Denmark",
          "Djibouti",
          "Dominica",
          "Dominican Republic",
          "Ecuador",
          "Egypt, Arab Rep.",
          "El Salvador",
          "Eswatini",
          "Ethiopia",
          "Fiji",
          "Finland",
          "France",
          "Gabon",
          "Gambia, The",
          "Georgia",
          "Germany",
          "Ghana",
          "Greece",
          "Grenada",
          "Guatemala",
          "Guinea-Bissau",
          "Guyana",
          "Honduras",
          "Hong Kong SAR, China",
          "Hungary",
          "Iceland",
          "India",
          "Indonesia",
          "Ireland",
          "Israel",
          "Italy",
          "Jamaica",
          "Japan",
          "Jordan",
          "Kazakhstan",
          "Kenya",
          "Kiribati",
          "Korea, Rep.",
          "Kosovo",
          "Kuwait",
          "Kyrgyz Republic",
          "Lao PDR",
          "Latvia",
          "Lebanon",
          "Lesotho",
          "Liberia",
          "Lithuania",
          "Luxembourg",
          "Madagascar",
          "Malawi",
          "Malaysia",
          "Maldives",
          "Malta",
          "Marshall Islands",
          "Mauritius",
          "Mexico",
          "Micronesia, Fed. Sts.",
          "Moldova",
          "Mongolia",
          "Montenegro",
          "Morocco",
          "Mozambique",
          "Namibia",
          "Nepal",
          "Netherlands",
          "New Zealand",
          "Nicaragua",
          "Nigeria",
          "North Macedonia",
          "Norway",
          "Pakistan",
          "Palau",
          "Panama",
          "Papua New Guinea",
          "Paraguay",
          "Peru",
          "Philippines",
          "Poland",
          "Portugal",
          "Puerto Rico",
          "Romania",
          "Rwanda",
          "Samoa",
          "San Marino",
          "Sao Tome and Principe",
          "Saudi Arabia",
          "Senegal",
          "Serbia",
          "Seychelles",
          "Sierra Leone",
          "Singapore",
          "Slovak Republic",
          "Slovenia",
          "Solomon Islands",
          "South Africa",
          "Spain",
          "Sri Lanka",
          "St. Kitts and Nevis",
          "St. Lucia",
          "St. Vincent and the Grenadines",
          "Suriname",
          "Sweden",
          "Switzerland",
          "Tajikistan",
          "Thailand",
          "Timor-Leste",
          "Togo",
          "Tonga",
          "Trinidad and Tobago",
          "Tunisia",
          "Turkiye",
          "Uganda",
          "Ukraine",
          "United Arab Emirates",
          "United Kingdom",
          "United States",
          "Uruguay",
          "Uzbekistan",
          "Vanuatu",
          "Venezuela, RB",
          "Viet Nam",
          "Zambia",
          "Zimbabwe"
         ],
         "locations": [
          "ALB",
          "DZA",
          "AGO",
          "ATG",
          "ARG",
          "ARM",
          "AUS",
          "AUT",
          "AZE",
          "BHS",
          "BHR",
          "BGD",
          "BRB",
          "BLR",
          "BEL",
          "BLZ",
          "BEN",
          "BTN",
          "BOL",
          "BIH",
          "BWA",
          "BRA",
          "BRN",
          "BGR",
          "BFA",
          "BDI",
          "CPV",
          "KHM",
          "CAN",
          "CAF",
          "TCD",
          "CHL",
          "CHN",
          "COL",
          "COM",
          "COG",
          "CRI",
          "CIV",
          "HRV",
          "CYP",
          "CZE",
          "DNK",
          "DJI",
          "DMA",
          "DOM",
          "ECU",
          "EGY",
          "SLV",
          "SWZ",
          "ETH",
          "FJI",
          "FIN",
          "FRA",
          "GAB",
          "GMB",
          "GEO",
          "DEU",
          "GHA",
          "GRC",
          "GRD",
          "GTM",
          "GNB",
          "GUY",
          "HND",
          "HKG",
          "HUN",
          "ISL",
          "IND",
          "IDN",
          "IRL",
          "ISR",
          "ITA",
          "JAM",
          "JPN",
          "JOR",
          "KAZ",
          "KEN",
          "KIR",
          "KOR",
          "XKX",
          "KWT",
          "KGZ",
          "LAO",
          "LVA",
          "LBN",
          "LSO",
          "LBR",
          "LTU",
          "LUX",
          "MDG",
          "MWI",
          "MYS",
          "MDV",
          "MLT",
          "MHL",
          "MUS",
          "MEX",
          "FSM",
          "MDA",
          "MNG",
          "MNE",
          "MAR",
          "MOZ",
          "NAM",
          "NPL",
          "NLD",
          "NZL",
          "NIC",
          "NGA",
          "MKD",
          "NOR",
          "PAK",
          "PLW",
          "PAN",
          "PNG",
          "PRY",
          "PER",
          "PHL",
          "POL",
          "PRT",
          "PRI",
          "ROU",
          "RWA",
          "WSM",
          "SMR",
          "STP",
          "SAU",
          "SEN",
          "SRB",
          "SYC",
          "SLE",
          "SGP",
          "SVK",
          "SVN",
          "SLB",
          "ZAF",
          "ESP",
          "LKA",
          "KNA",
          "LCA",
          "VCT",
          "SUR",
          "SWE",
          "CHE",
          "TJK",
          "THA",
          "TLS",
          "TGO",
          "TON",
          "TTO",
          "TUN",
          "TUR",
          "UGA",
          "UKR",
          "ARE",
          "GBR",
          "USA",
          "URY",
          "UZB",
          "VUT",
          "VEN",
          "VNM",
          "ZMB",
          "ZWE"
         ],
         "name": "1",
         "showlegend": true,
         "showscale": false,
         "type": "choropleth",
         "z": [
          1,
          1,
          1,
          1,
          1,
          1,
          1,
          1,
          1,
          1,
          1,
          1,
          1,
          1,
          1,
          1,
          1,
          1,
          1,
          1,
          1,
          1,
          1,
          1,
          1,
          1,
          1,
          1,
          1,
          1,
          1,
          1,
          1,
          1,
          1,
          1,
          1,
          1,
          1,
          1,
          1,
          1,
          1,
          1,
          1,
          1,
          1,
          1,
          1,
          1,
          1,
          1,
          1,
          1,
          1,
          1,
          1,
          1,
          1,
          1,
          1,
          1,
          1,
          1,
          1,
          1,
          1,
          1,
          1,
          1,
          1,
          1,
          1,
          1,
          1,
          1,
          1,
          1,
          1,
          1,
          1,
          1,
          1,
          1,
          1,
          1,
          1,
          1,
          1,
          1,
          1,
          1,
          1,
          1,
          1,
          1,
          1,
          1,
          1,
          1,
          1,
          1,
          1,
          1,
          1,
          1,
          1,
          1,
          1,
          1,
          1,
          1,
          1,
          1,
          1,
          1,
          1,
          1,
          1,
          1,
          1,
          1,
          1,
          1,
          1,
          1,
          1,
          1,
          1,
          1,
          1,
          1,
          1,
          1,
          1,
          1,
          1,
          1,
          1,
          1,
          1,
          1,
          1,
          1,
          1,
          1,
          1,
          1,
          1,
          1,
          1,
          1,
          1,
          1,
          1,
          1,
          1,
          1,
          1,
          1,
          1,
          1,
          1,
          1
         ]
        },
        {
         "colorscale": [
          [
           0,
           "#00cc96"
          ],
          [
           1,
           "#00cc96"
          ]
         ],
         "customdata": [
          [
           "No Data",
           "..",
           "ASM"
          ],
          [
           "No Data",
           "..",
           "AND"
          ],
          [
           "No Data",
           "..",
           "ABW"
          ],
          [
           "No Data",
           "..",
           "BMU"
          ],
          [
           "No Data",
           "..",
           "VGB"
          ],
          [
           "No Data",
           "..",
           "CYM"
          ],
          [
           "No Data",
           "..",
           "CHI"
          ],
          [
           "No Data",
           "..",
           "CUB"
          ],
          [
           "No Data",
           "..",
           "CUW"
          ],
          [
           "No Data",
           "..",
           "FRO"
          ],
          [
           "No Data",
           "..",
           "PYF"
          ],
          [
           "No Data",
           "..",
           "GIB"
          ],
          [
           "No Data",
           "..",
           "GRL"
          ],
          [
           "No Data",
           "..",
           "GUM"
          ],
          [
           "No Data",
           "..",
           "IMN"
          ],
          [
           "No Data",
           "..",
           "PRK"
          ],
          [
           "No Data",
           "..",
           "LIE"
          ],
          [
           "No Data",
           "..",
           "MAC"
          ],
          [
           "No Data",
           "..",
           "MCO"
          ],
          [
           "No Data",
           "..",
           "NRU"
          ],
          [
           "No Data",
           "..",
           "NCL"
          ],
          [
           "No Data",
           "..",
           "MNP"
          ],
          [
           "No Data",
           "..",
           "SXM"
          ],
          [
           "No Data",
           "..",
           "MAF"
          ],
          [
           "No Data",
           "..",
           "TKM"
          ],
          [
           "No Data",
           "..",
           "TCA"
          ],
          [
           "No Data",
           "..",
           "TUV"
          ],
          [
           "No Data",
           "..",
           "VIR"
          ],
          [
           "No Data",
           "..",
           "AFE"
          ],
          [
           "No Data",
           "..",
           "AFW"
          ],
          [
           "No Data",
           "..",
           "ARB"
          ],
          [
           "No Data",
           "..",
           "CSS"
          ],
          [
           "No Data",
           "..",
           "CEB"
          ],
          [
           "No Data",
           "..",
           "EAR"
          ],
          [
           "No Data",
           "..",
           "EAS"
          ],
          [
           "No Data",
           "..",
           "EAP"
          ],
          [
           "No Data",
           "..",
           "TEA"
          ],
          [
           "No Data",
           "..",
           "EMU"
          ],
          [
           "No Data",
           "..",
           "ECS"
          ],
          [
           "No Data",
           "..",
           "ECA"
          ],
          [
           "No Data",
           "..",
           "TEC"
          ],
          [
           "No Data",
           "..",
           "EUU"
          ],
          [
           "No Data",
           "..",
           "FCS"
          ],
          [
           "No Data",
           "..",
           "HPC"
          ],
          [
           "No Data",
           "..",
           "HIC"
          ],
          [
           "No Data",
           "..",
           "IBD"
          ],
          [
           "No Data",
           "..",
           "IBT"
          ],
          [
           "No Data",
           "..",
           "IDB"
          ],
          [
           "No Data",
           "..",
           "IDX"
          ],
          [
           "No Data",
           "..",
           "IDA"
          ],
          [
           "No Data",
           "..",
           "LTE"
          ],
          [
           "No Data",
           "..",
           "LCN"
          ],
          [
           "No Data",
           "..",
           "LAC"
          ],
          [
           "No Data",
           "..",
           "TLA"
          ],
          [
           "No Data",
           "..",
           "LDC"
          ],
          [
           "No Data",
           "..",
           "LMY"
          ],
          [
           "No Data",
           "..",
           "LIC"
          ],
          [
           "No Data",
           "..",
           "LMC"
          ],
          [
           "No Data",
           "..",
           "MEA"
          ],
          [
           "No Data",
           "..",
           "MNA"
          ],
          [
           "No Data",
           "..",
           "TMN"
          ],
          [
           "No Data",
           "..",
           "MIC"
          ],
          [
           "No Data",
           "..",
           "NAC"
          ],
          [
           "No Data",
           "..",
           "OED"
          ],
          [
           "No Data",
           "..",
           "OSS"
          ],
          [
           "No Data",
           "..",
           "PSS"
          ],
          [
           "No Data",
           "..",
           "PST"
          ],
          [
           "No Data",
           "..",
           "PRE"
          ],
          [
           "No Data",
           "..",
           "SST"
          ],
          [
           "No Data",
           "..",
           "SAS"
          ],
          [
           "No Data",
           "..",
           "TSA"
          ],
          [
           "No Data",
           "..",
           "SSF"
          ],
          [
           "No Data",
           "..",
           "SSA"
          ],
          [
           "No Data",
           "..",
           "TSS"
          ],
          [
           "No Data",
           "..",
           "UMC"
          ],
          [
           "No Data",
           "..",
           "WLD"
          ]
         ],
         "geo": "geo",
         "hovertemplate": "<b>%{hovertext}</b><br><br>lawStatus=%{customdata[0]}<extra></extra>",
         "hovertext": [
          "American Samoa",
          "Andorra",
          "Aruba",
          "Bermuda",
          "British Virgin Islands",
          "Cayman Islands",
          "Channel Islands",
          "Cuba",
          "Curacao",
          "Faroe Islands",
          "French Polynesia",
          "Gibraltar",
          "Greenland",
          "Guam",
          "Isle of Man",
          "Korea, Dem. People's Rep.",
          "Liechtenstein",
          "Macao SAR, China",
          "Monaco",
          "Nauru",
          "New Caledonia",
          "Northern Mariana Islands",
          "Sint Maarten (Dutch part)",
          "St. Martin (French part)",
          "Turkmenistan",
          "Turks and Caicos Islands",
          "Tuvalu",
          "Virgin Islands (U.S.)",
          "Africa Eastern and Southern",
          "Africa Western and Central",
          "Arab World",
          "Caribbean small states",
          "Central Europe and the Baltics",
          "Early-demographic dividend",
          "East Asia & Pacific",
          "East Asia & Pacific (excluding high income)",
          "East Asia & Pacific (IDA & IBRD)",
          "Euro area",
          "Europe & Central Asia",
          "Europe & Central Asia (excluding high income)",
          "Europe & Central Asia (IDA & IBRD)",
          "European Union",
          "Fragile and conflict affected situations",
          "Heavily indebted poor countries (HIPC)",
          "High income",
          "IBRD only",
          "IDA & IBRD total",
          "IDA blend",
          "IDA only",
          "IDA total",
          "Late-demographic dividend",
          "Latin America & Caribbean",
          "Latin America & Caribbean (excluding high income)",
          "Latin America & Caribbean (IDA & IBRD)",
          "Least developed countries: UN classification",
          "Low & middle income",
          "Low income",
          "Lower middle income",
          "Middle East & North Africa",
          "Middle East & North Africa (excluding high income)",
          "Middle East & North Africa (IDA & IBRD)",
          "Middle income",
          "North America",
          "OECD members",
          "Other small states",
          "Pacific island small states",
          "Post-demographic dividend",
          "Pre-demographic dividend",
          "Small states",
          "South Asia",
          "South Asia (IDA & IBRD)",
          "Sub-Saharan Africa",
          "Sub-Saharan Africa (excluding high income)",
          "Sub-Saharan Africa (IDA & IBRD)",
          "Upper middle income",
          "World"
         ],
         "locations": [
          "ASM",
          "AND",
          "ABW",
          "BMU",
          "VGB",
          "CYM",
          "CHI",
          "CUB",
          "CUW",
          "FRO",
          "PYF",
          "GIB",
          "GRL",
          "GUM",
          "IMN",
          "PRK",
          "LIE",
          "MAC",
          "MCO",
          "NRU",
          "NCL",
          "MNP",
          "SXM",
          "MAF",
          "TKM",
          "TCA",
          "TUV",
          "VIR",
          "AFE",
          "AFW",
          "ARB",
          "CSS",
          "CEB",
          "EAR",
          "EAS",
          "EAP",
          "TEA",
          "EMU",
          "ECS",
          "ECA",
          "TEC",
          "EUU",
          "FCS",
          "HPC",
          "HIC",
          "IBD",
          "IBT",
          "IDB",
          "IDX",
          "IDA",
          "LTE",
          "LCN",
          "LAC",
          "TLA",
          "LDC",
          "LMY",
          "LIC",
          "LMC",
          "MEA",
          "MNA",
          "TMN",
          "MIC",
          "NAC",
          "OED",
          "OSS",
          "PSS",
          "PST",
          "PRE",
          "SST",
          "SAS",
          "TSA",
          "SSF",
          "SSA",
          "TSS",
          "UMC",
          "WLD"
         ],
         "name": "..",
         "showlegend": true,
         "showscale": false,
         "type": "choropleth",
         "z": [
          1,
          1,
          1,
          1,
          1,
          1,
          1,
          1,
          1,
          1,
          1,
          1,
          1,
          1,
          1,
          1,
          1,
          1,
          1,
          1,
          1,
          1,
          1,
          1,
          1,
          1,
          1,
          1,
          1,
          1,
          1,
          1,
          1,
          1,
          1,
          1,
          1,
          1,
          1,
          1,
          1,
          1,
          1,
          1,
          1,
          1,
          1,
          1,
          1,
          1,
          1,
          1,
          1,
          1,
          1,
          1,
          1,
          1,
          1,
          1,
          1,
          1,
          1,
          1,
          1,
          1,
          1,
          1,
          1,
          1,
          1,
          1,
          1,
          1,
          1,
          1
         ]
        }
       ],
       "layout": {
        "autosize": true,
        "geo": {
         "center": {},
         "domain": {
          "x": [
           0,
           1
          ],
          "y": [
           0,
           1
          ]
         }
        },
        "legend": {
         "title": {
          "text": "2023"
         },
         "tracegroupgap": 0,
         "x": 0.1,
         "xanchor": "left",
         "y": 0.99,
         "yanchor": "top"
        },
        "template": {
         "data": {
          "bar": [
           {
            "error_x": {
             "color": "#2a3f5f"
            },
            "error_y": {
             "color": "#2a3f5f"
            },
            "marker": {
             "line": {
              "color": "#E5ECF6",
              "width": 0.5
             },
             "pattern": {
              "fillmode": "overlay",
              "size": 10,
              "solidity": 0.2
             }
            },
            "type": "bar"
           }
          ],
          "barpolar": [
           {
            "marker": {
             "line": {
              "color": "#E5ECF6",
              "width": 0.5
             },
             "pattern": {
              "fillmode": "overlay",
              "size": 10,
              "solidity": 0.2
             }
            },
            "type": "barpolar"
           }
          ],
          "carpet": [
           {
            "aaxis": {
             "endlinecolor": "#2a3f5f",
             "gridcolor": "white",
             "linecolor": "white",
             "minorgridcolor": "white",
             "startlinecolor": "#2a3f5f"
            },
            "baxis": {
             "endlinecolor": "#2a3f5f",
             "gridcolor": "white",
             "linecolor": "white",
             "minorgridcolor": "white",
             "startlinecolor": "#2a3f5f"
            },
            "type": "carpet"
           }
          ],
          "choropleth": [
           {
            "colorbar": {
             "outlinewidth": 0,
             "ticks": ""
            },
            "type": "choropleth"
           }
          ],
          "contour": [
           {
            "colorbar": {
             "outlinewidth": 0,
             "ticks": ""
            },
            "colorscale": [
             [
              0,
              "#0d0887"
             ],
             [
              0.1111111111111111,
              "#46039f"
             ],
             [
              0.2222222222222222,
              "#7201a8"
             ],
             [
              0.3333333333333333,
              "#9c179e"
             ],
             [
              0.4444444444444444,
              "#bd3786"
             ],
             [
              0.5555555555555556,
              "#d8576b"
             ],
             [
              0.6666666666666666,
              "#ed7953"
             ],
             [
              0.7777777777777778,
              "#fb9f3a"
             ],
             [
              0.8888888888888888,
              "#fdca26"
             ],
             [
              1,
              "#f0f921"
             ]
            ],
            "type": "contour"
           }
          ],
          "contourcarpet": [
           {
            "colorbar": {
             "outlinewidth": 0,
             "ticks": ""
            },
            "type": "contourcarpet"
           }
          ],
          "heatmap": [
           {
            "colorbar": {
             "outlinewidth": 0,
             "ticks": ""
            },
            "colorscale": [
             [
              0,
              "#0d0887"
             ],
             [
              0.1111111111111111,
              "#46039f"
             ],
             [
              0.2222222222222222,
              "#7201a8"
             ],
             [
              0.3333333333333333,
              "#9c179e"
             ],
             [
              0.4444444444444444,
              "#bd3786"
             ],
             [
              0.5555555555555556,
              "#d8576b"
             ],
             [
              0.6666666666666666,
              "#ed7953"
             ],
             [
              0.7777777777777778,
              "#fb9f3a"
             ],
             [
              0.8888888888888888,
              "#fdca26"
             ],
             [
              1,
              "#f0f921"
             ]
            ],
            "type": "heatmap"
           }
          ],
          "heatmapgl": [
           {
            "colorbar": {
             "outlinewidth": 0,
             "ticks": ""
            },
            "colorscale": [
             [
              0,
              "#0d0887"
             ],
             [
              0.1111111111111111,
              "#46039f"
             ],
             [
              0.2222222222222222,
              "#7201a8"
             ],
             [
              0.3333333333333333,
              "#9c179e"
             ],
             [
              0.4444444444444444,
              "#bd3786"
             ],
             [
              0.5555555555555556,
              "#d8576b"
             ],
             [
              0.6666666666666666,
              "#ed7953"
             ],
             [
              0.7777777777777778,
              "#fb9f3a"
             ],
             [
              0.8888888888888888,
              "#fdca26"
             ],
             [
              1,
              "#f0f921"
             ]
            ],
            "type": "heatmapgl"
           }
          ],
          "histogram": [
           {
            "marker": {
             "pattern": {
              "fillmode": "overlay",
              "size": 10,
              "solidity": 0.2
             }
            },
            "type": "histogram"
           }
          ],
          "histogram2d": [
           {
            "colorbar": {
             "outlinewidth": 0,
             "ticks": ""
            },
            "colorscale": [
             [
              0,
              "#0d0887"
             ],
             [
              0.1111111111111111,
              "#46039f"
             ],
             [
              0.2222222222222222,
              "#7201a8"
             ],
             [
              0.3333333333333333,
              "#9c179e"
             ],
             [
              0.4444444444444444,
              "#bd3786"
             ],
             [
              0.5555555555555556,
              "#d8576b"
             ],
             [
              0.6666666666666666,
              "#ed7953"
             ],
             [
              0.7777777777777778,
              "#fb9f3a"
             ],
             [
              0.8888888888888888,
              "#fdca26"
             ],
             [
              1,
              "#f0f921"
             ]
            ],
            "type": "histogram2d"
           }
          ],
          "histogram2dcontour": [
           {
            "colorbar": {
             "outlinewidth": 0,
             "ticks": ""
            },
            "colorscale": [
             [
              0,
              "#0d0887"
             ],
             [
              0.1111111111111111,
              "#46039f"
             ],
             [
              0.2222222222222222,
              "#7201a8"
             ],
             [
              0.3333333333333333,
              "#9c179e"
             ],
             [
              0.4444444444444444,
              "#bd3786"
             ],
             [
              0.5555555555555556,
              "#d8576b"
             ],
             [
              0.6666666666666666,
              "#ed7953"
             ],
             [
              0.7777777777777778,
              "#fb9f3a"
             ],
             [
              0.8888888888888888,
              "#fdca26"
             ],
             [
              1,
              "#f0f921"
             ]
            ],
            "type": "histogram2dcontour"
           }
          ],
          "mesh3d": [
           {
            "colorbar": {
             "outlinewidth": 0,
             "ticks": ""
            },
            "type": "mesh3d"
           }
          ],
          "parcoords": [
           {
            "line": {
             "colorbar": {
              "outlinewidth": 0,
              "ticks": ""
             }
            },
            "type": "parcoords"
           }
          ],
          "pie": [
           {
            "automargin": true,
            "type": "pie"
           }
          ],
          "scatter": [
           {
            "fillpattern": {
             "fillmode": "overlay",
             "size": 10,
             "solidity": 0.2
            },
            "type": "scatter"
           }
          ],
          "scatter3d": [
           {
            "line": {
             "colorbar": {
              "outlinewidth": 0,
              "ticks": ""
             }
            },
            "marker": {
             "colorbar": {
              "outlinewidth": 0,
              "ticks": ""
             }
            },
            "type": "scatter3d"
           }
          ],
          "scattercarpet": [
           {
            "marker": {
             "colorbar": {
              "outlinewidth": 0,
              "ticks": ""
             }
            },
            "type": "scattercarpet"
           }
          ],
          "scattergeo": [
           {
            "marker": {
             "colorbar": {
              "outlinewidth": 0,
              "ticks": ""
             }
            },
            "type": "scattergeo"
           }
          ],
          "scattergl": [
           {
            "marker": {
             "colorbar": {
              "outlinewidth": 0,
              "ticks": ""
             }
            },
            "type": "scattergl"
           }
          ],
          "scattermapbox": [
           {
            "marker": {
             "colorbar": {
              "outlinewidth": 0,
              "ticks": ""
             }
            },
            "type": "scattermapbox"
           }
          ],
          "scatterpolar": [
           {
            "marker": {
             "colorbar": {
              "outlinewidth": 0,
              "ticks": ""
             }
            },
            "type": "scatterpolar"
           }
          ],
          "scatterpolargl": [
           {
            "marker": {
             "colorbar": {
              "outlinewidth": 0,
              "ticks": ""
             }
            },
            "type": "scatterpolargl"
           }
          ],
          "scatterternary": [
           {
            "marker": {
             "colorbar": {
              "outlinewidth": 0,
              "ticks": ""
             }
            },
            "type": "scatterternary"
           }
          ],
          "surface": [
           {
            "colorbar": {
             "outlinewidth": 0,
             "ticks": ""
            },
            "colorscale": [
             [
              0,
              "#0d0887"
             ],
             [
              0.1111111111111111,
              "#46039f"
             ],
             [
              0.2222222222222222,
              "#7201a8"
             ],
             [
              0.3333333333333333,
              "#9c179e"
             ],
             [
              0.4444444444444444,
              "#bd3786"
             ],
             [
              0.5555555555555556,
              "#d8576b"
             ],
             [
              0.6666666666666666,
              "#ed7953"
             ],
             [
              0.7777777777777778,
              "#fb9f3a"
             ],
             [
              0.8888888888888888,
              "#fdca26"
             ],
             [
              1,
              "#f0f921"
             ]
            ],
            "type": "surface"
           }
          ],
          "table": [
           {
            "cells": {
             "fill": {
              "color": "#EBF0F8"
             },
             "line": {
              "color": "white"
             }
            },
            "header": {
             "fill": {
              "color": "#C8D4E3"
             },
             "line": {
              "color": "white"
             }
            },
            "type": "table"
           }
          ]
         },
         "layout": {
          "annotationdefaults": {
           "arrowcolor": "#2a3f5f",
           "arrowhead": 0,
           "arrowwidth": 1
          },
          "autotypenumbers": "strict",
          "coloraxis": {
           "colorbar": {
            "outlinewidth": 0,
            "ticks": ""
           }
          },
          "colorscale": {
           "diverging": [
            [
             0,
             "#8e0152"
            ],
            [
             0.1,
             "#c51b7d"
            ],
            [
             0.2,
             "#de77ae"
            ],
            [
             0.3,
             "#f1b6da"
            ],
            [
             0.4,
             "#fde0ef"
            ],
            [
             0.5,
             "#f7f7f7"
            ],
            [
             0.6,
             "#e6f5d0"
            ],
            [
             0.7,
             "#b8e186"
            ],
            [
             0.8,
             "#7fbc41"
            ],
            [
             0.9,
             "#4d9221"
            ],
            [
             1,
             "#276419"
            ]
           ],
           "sequential": [
            [
             0,
             "#0d0887"
            ],
            [
             0.1111111111111111,
             "#46039f"
            ],
            [
             0.2222222222222222,
             "#7201a8"
            ],
            [
             0.3333333333333333,
             "#9c179e"
            ],
            [
             0.4444444444444444,
             "#bd3786"
            ],
            [
             0.5555555555555556,
             "#d8576b"
            ],
            [
             0.6666666666666666,
             "#ed7953"
            ],
            [
             0.7777777777777778,
             "#fb9f3a"
            ],
            [
             0.8888888888888888,
             "#fdca26"
            ],
            [
             1,
             "#f0f921"
            ]
           ],
           "sequentialminus": [
            [
             0,
             "#0d0887"
            ],
            [
             0.1111111111111111,
             "#46039f"
            ],
            [
             0.2222222222222222,
             "#7201a8"
            ],
            [
             0.3333333333333333,
             "#9c179e"
            ],
            [
             0.4444444444444444,
             "#bd3786"
            ],
            [
             0.5555555555555556,
             "#d8576b"
            ],
            [
             0.6666666666666666,
             "#ed7953"
            ],
            [
             0.7777777777777778,
             "#fb9f3a"
            ],
            [
             0.8888888888888888,
             "#fdca26"
            ],
            [
             1,
             "#f0f921"
            ]
           ]
          },
          "colorway": [
           "#636efa",
           "#EF553B",
           "#00cc96",
           "#ab63fa",
           "#FFA15A",
           "#19d3f3",
           "#FF6692",
           "#B6E880",
           "#FF97FF",
           "#FECB52"
          ],
          "font": {
           "color": "#2a3f5f"
          },
          "geo": {
           "bgcolor": "white",
           "lakecolor": "white",
           "landcolor": "#E5ECF6",
           "showlakes": true,
           "showland": true,
           "subunitcolor": "white"
          },
          "hoverlabel": {
           "align": "left"
          },
          "hovermode": "closest",
          "mapbox": {
           "style": "light"
          },
          "paper_bgcolor": "white",
          "plot_bgcolor": "#E5ECF6",
          "polar": {
           "angularaxis": {
            "gridcolor": "white",
            "linecolor": "white",
            "ticks": ""
           },
           "bgcolor": "#E5ECF6",
           "radialaxis": {
            "gridcolor": "white",
            "linecolor": "white",
            "ticks": ""
           }
          },
          "scene": {
           "xaxis": {
            "backgroundcolor": "#E5ECF6",
            "gridcolor": "white",
            "gridwidth": 2,
            "linecolor": "white",
            "showbackground": true,
            "ticks": "",
            "zerolinecolor": "white"
           },
           "yaxis": {
            "backgroundcolor": "#E5ECF6",
            "gridcolor": "white",
            "gridwidth": 2,
            "linecolor": "white",
            "showbackground": true,
            "ticks": "",
            "zerolinecolor": "white"
           },
           "zaxis": {
            "backgroundcolor": "#E5ECF6",
            "gridcolor": "white",
            "gridwidth": 2,
            "linecolor": "white",
            "showbackground": true,
            "ticks": "",
            "zerolinecolor": "white"
           }
          },
          "shapedefaults": {
           "line": {
            "color": "#2a3f5f"
           }
          },
          "ternary": {
           "aaxis": {
            "gridcolor": "white",
            "linecolor": "white",
            "ticks": ""
           },
           "baxis": {
            "gridcolor": "white",
            "linecolor": "white",
            "ticks": ""
           },
           "bgcolor": "#E5ECF6",
           "caxis": {
            "gridcolor": "white",
            "linecolor": "white",
            "ticks": ""
           }
          },
          "title": {
           "x": 0.05
          },
          "xaxis": {
           "automargin": true,
           "gridcolor": "white",
           "linecolor": "white",
           "ticks": "",
           "title": {
            "standoff": 15
           },
           "zerolinecolor": "white",
           "zerolinewidth": 2
          },
          "yaxis": {
           "automargin": true,
           "gridcolor": "white",
           "linecolor": "white",
           "ticks": "",
           "title": {
            "standoff": 15
           },
           "zerolinecolor": "white",
           "zerolinewidth": 2
          }
         }
        },
        "title": {
         "text": "Examining Global Protection Standards"
        }
       }
      },
      "image/png": "[encoded data removed]",
      "text/html": [
       "<div>                            <div id=\"e229e2e0-c12f-4a19-9a73-7e93798836a2\" class=\"plotly-graph-div\" style=\"height:525px; width:100%;\"></div>            <script type=\"text/javascript\">                require([\"plotly\"], function(Plotly) {                    window.PLOTLYENV=window.PLOTLYENV || {};                                    if (document.getElementById(\"e229e2e0-c12f-4a19-9a73-7e93798836a2\")) {                    Plotly.newPlot(                        \"e229e2e0-c12f-4a19-9a73-7e93798836a2\",                        [{\"colorscale\":[[0.0,\"#636efa\"],[1.0,\"#636efa\"]],\"customdata\":[[\"No Protections Exist\",\"0\",\"AFG\"],[\"No Protections Exist\",\"0\",\"CMR\"],[\"No Protections Exist\",\"0\",\"COD\"],[\"No Protections Exist\",\"0\",\"GNQ\"],[\"No Protections Exist\",\"0\",\"ERI\"],[\"No Protections Exist\",\"0\",\"EST\"],[\"No Protections Exist\",\"0\",\"GIN\"],[\"No Protections Exist\",\"0\",\"HTI\"],[\"No Protections Exist\",\"0\",\"IRN\"],[\"No Protections Exist\",\"0\",\"IRQ\"],[\"No Protections Exist\",\"0\",\"LBY\"],[\"No Protections Exist\",\"0\",\"MLI\"],[\"No Protections Exist\",\"0\",\"MRT\"],[\"No Protections Exist\",\"0\",\"MMR\"],[\"No Protections Exist\",\"0\",\"NER\"],[\"No Protections Exist\",\"0\",\"OMN\"],[\"No Protections Exist\",\"0\",\"QAT\"],[\"No Protections Exist\",\"0\",\"RUS\"],[\"No Protections Exist\",\"0\",\"SOM\"],[\"No Protections Exist\",\"0\",\"SSD\"],[\"No Protections Exist\",\"0\",\"SDN\"],[\"No Protections Exist\",\"0\",\"SYR\"],[\"No Protections Exist\",\"0\",\"TZA\"],[\"No Protections Exist\",\"0\",\"PSE\"],[\"No Protections Exist\",\"0\",\"YEM\"]],\"geo\":\"geo\",\"hovertemplate\":\"\\u003cb\\u003e%{hovertext}\\u003c\\u002fb\\u003e\\u003cbr\\u003e\\u003cbr\\u003elawStatus=%{customdata[0]}\\u003cextra\\u003e\\u003c\\u002fextra\\u003e\",\"hovertext\":[\"Afghanistan\",\"Cameroon\",\"Congo, Dem. Rep.\",\"Equatorial Guinea\",\"Eritrea\",\"Estonia\",\"Guinea\",\"Haiti\",\"Iran, Islamic Rep.\",\"Iraq\",\"Libya\",\"Mali\",\"Mauritania\",\"Myanmar\",\"Niger\",\"Oman\",\"Qatar\",\"Russian Federation\",\"Somalia\",\"South Sudan\",\"Sudan\",\"Syrian Arab Republic\",\"Tanzania\",\"West Bank and Gaza\",\"Yemen, Rep.\"],\"locations\":[\"AFG\",\"CMR\",\"COD\",\"GNQ\",\"ERI\",\"EST\",\"GIN\",\"HTI\",\"IRN\",\"IRQ\",\"LBY\",\"MLI\",\"MRT\",\"MMR\",\"NER\",\"OMN\",\"QAT\",\"RUS\",\"SOM\",\"SSD\",\"SDN\",\"SYR\",\"TZA\",\"PSE\",\"YEM\"],\"name\":\"0\",\"showlegend\":true,\"showscale\":false,\"z\":[1,1,1,1,1,1,1,1,1,1,1,1,1,1,1,1,1,1,1,1,1,1,1,1,1],\"type\":\"choropleth\"},{\"colorscale\":[[0.0,\"#EF553B\"],[1.0,\"#EF553B\"]],\"customdata\":[[\"Protections Exist\",\"1\",\"ALB\"],[\"Protections Exist\",\"1\",\"DZA\"],[\"Protections Exist\",\"1\",\"AGO\"],[\"Protections Exist\",\"1\",\"ATG\"],[\"Protections Exist\",\"1\",\"ARG\"],[\"Protections Exist\",\"1\",\"ARM\"],[\"Protections Exist\",\"1\",\"AUS\"],[\"Protections Exist\",\"1\",\"AUT\"],[\"Protections Exist\",\"1\",\"AZE\"],[\"Protections Exist\",\"1\",\"BHS\"],[\"Protections Exist\",\"1\",\"BHR\"],[\"Protections Exist\",\"1\",\"BGD\"],[\"Protections Exist\",\"1\",\"BRB\"],[\"Protections Exist\",\"1\",\"BLR\"],[\"Protections Exist\",\"1\",\"BEL\"],[\"Protections Exist\",\"1\",\"BLZ\"],[\"Protections Exist\",\"1\",\"BEN\"],[\"Protections Exist\",\"1\",\"BTN\"],[\"Protections Exist\",\"1\",\"BOL\"],[\"Protections Exist\",\"1\",\"BIH\"],[\"Protections Exist\",\"1\",\"BWA\"],[\"Protections Exist\",\"1\",\"BRA\"],[\"Protections Exist\",\"1\",\"BRN\"],[\"Protections Exist\",\"1\",\"BGR\"],[\"Protections Exist\",\"1\",\"BFA\"],[\"Protections Exist\",\"1\",\"BDI\"],[\"Protections Exist\",\"1\",\"CPV\"],[\"Protections Exist\",\"1\",\"KHM\"],[\"Protections Exist\",\"1\",\"CAN\"],[\"Protections Exist\",\"1\",\"CAF\"],[\"Protections Exist\",\"1\",\"TCD\"],[\"Protections Exist\",\"1\",\"CHL\"],[\"Protections Exist\",\"1\",\"CHN\"],[\"Protections Exist\",\"1\",\"COL\"],[\"Protections Exist\",\"1\",\"COM\"],[\"Protections Exist\",\"1\",\"COG\"],[\"Protections Exist\",\"1\",\"CRI\"],[\"Protections Exist\",\"1\",\"CIV\"],[\"Protections Exist\",\"1\",\"HRV\"],[\"Protections Exist\",\"1\",\"CYP\"],[\"Protections Exist\",\"1\",\"CZE\"],[\"Protections Exist\",\"1\",\"DNK\"],[\"Protections Exist\",\"1\",\"DJI\"],[\"Protections Exist\",\"1\",\"DMA\"],[\"Protections Exist\",\"1\",\"DOM\"],[\"Protections Exist\",\"1\",\"ECU\"],[\"Protections Exist\",\"1\",\"EGY\"],[\"Protections Exist\",\"1\",\"SLV\"],[\"Protections Exist\",\"1\",\"SWZ\"],[\"Protections Exist\",\"1\",\"ETH\"],[\"Protections Exist\",\"1\",\"FJI\"],[\"Protections Exist\",\"1\",\"FIN\"],[\"Protections Exist\",\"1\",\"FRA\"],[\"Protections Exist\",\"1\",\"GAB\"],[\"Protections Exist\",\"1\",\"GMB\"],[\"Protections Exist\",\"1\",\"GEO\"],[\"Protections Exist\",\"1\",\"DEU\"],[\"Protections Exist\",\"1\",\"GHA\"],[\"Protections Exist\",\"1\",\"GRC\"],[\"Protections Exist\",\"1\",\"GRD\"],[\"Protections Exist\",\"1\",\"GTM\"],[\"Protections Exist\",\"1\",\"GNB\"],[\"Protections Exist\",\"1\",\"GUY\"],[\"Protections Exist\",\"1\",\"HND\"],[\"Protections Exist\",\"1\",\"HKG\"],[\"Protections Exist\",\"1\",\"HUN\"],[\"Protections Exist\",\"1\",\"ISL\"],[\"Protections Exist\",\"1\",\"IND\"],[\"Protections Exist\",\"1\",\"IDN\"],[\"Protections Exist\",\"1\",\"IRL\"],[\"Protections Exist\",\"1\",\"ISR\"],[\"Protections Exist\",\"1\",\"ITA\"],[\"Protections Exist\",\"1\",\"JAM\"],[\"Protections Exist\",\"1\",\"JPN\"],[\"Protections Exist\",\"1\",\"JOR\"],[\"Protections Exist\",\"1\",\"KAZ\"],[\"Protections Exist\",\"1\",\"KEN\"],[\"Protections Exist\",\"1\",\"KIR\"],[\"Protections Exist\",\"1\",\"KOR\"],[\"Protections Exist\",\"1\",\"XKX\"],[\"Protections Exist\",\"1\",\"KWT\"],[\"Protections Exist\",\"1\",\"KGZ\"],[\"Protections Exist\",\"1\",\"LAO\"],[\"Protections Exist\",\"1\",\"LVA\"],[\"Protections Exist\",\"1\",\"LBN\"],[\"Protections Exist\",\"1\",\"LSO\"],[\"Protections Exist\",\"1\",\"LBR\"],[\"Protections Exist\",\"1\",\"LTU\"],[\"Protections Exist\",\"1\",\"LUX\"],[\"Protections Exist\",\"1\",\"MDG\"],[\"Protections Exist\",\"1\",\"MWI\"],[\"Protections Exist\",\"1\",\"MYS\"],[\"Protections Exist\",\"1\",\"MDV\"],[\"Protections Exist\",\"1\",\"MLT\"],[\"Protections Exist\",\"1\",\"MHL\"],[\"Protections Exist\",\"1\",\"MUS\"],[\"Protections Exist\",\"1\",\"MEX\"],[\"Protections Exist\",\"1\",\"FSM\"],[\"Protections Exist\",\"1\",\"MDA\"],[\"Protections Exist\",\"1\",\"MNG\"],[\"Protections Exist\",\"1\",\"MNE\"],[\"Protections Exist\",\"1\",\"MAR\"],[\"Protections Exist\",\"1\",\"MOZ\"],[\"Protections Exist\",\"1\",\"NAM\"],[\"Protections Exist\",\"1\",\"NPL\"],[\"Protections Exist\",\"1\",\"NLD\"],[\"Protections Exist\",\"1\",\"NZL\"],[\"Protections Exist\",\"1\",\"NIC\"],[\"Protections Exist\",\"1\",\"NGA\"],[\"Protections Exist\",\"1\",\"MKD\"],[\"Protections Exist\",\"1\",\"NOR\"],[\"Protections Exist\",\"1\",\"PAK\"],[\"Protections Exist\",\"1\",\"PLW\"],[\"Protections Exist\",\"1\",\"PAN\"],[\"Protections Exist\",\"1\",\"PNG\"],[\"Protections Exist\",\"1\",\"PRY\"],[\"Protections Exist\",\"1\",\"PER\"],[\"Protections Exist\",\"1\",\"PHL\"],[\"Protections Exist\",\"1\",\"POL\"],[\"Protections Exist\",\"1\",\"PRT\"],[\"Protections Exist\",\"1\",\"PRI\"],[\"Protections Exist\",\"1\",\"ROU\"],[\"Protections Exist\",\"1\",\"RWA\"],[\"Protections Exist\",\"1\",\"WSM\"],[\"Protections Exist\",\"1\",\"SMR\"],[\"Protections Exist\",\"1\",\"STP\"],[\"Protections Exist\",\"1\",\"SAU\"],[\"Protections Exist\",\"1\",\"SEN\"],[\"Protections Exist\",\"1\",\"SRB\"],[\"Protections Exist\",\"1\",\"SYC\"],[\"Protections Exist\",\"1\",\"SLE\"],[\"Protections Exist\",\"1\",\"SGP\"],[\"Protections Exist\",\"1\",\"SVK\"],[\"Protections Exist\",\"1\",\"SVN\"],[\"Protections Exist\",\"1\",\"SLB\"],[\"Protections Exist\",\"1\",\"ZAF\"],[\"Protections Exist\",\"1\",\"ESP\"],[\"Protections Exist\",\"1\",\"LKA\"],[\"Protections Exist\",\"1\",\"KNA\"],[\"Protections Exist\",\"1\",\"LCA\"],[\"Protections Exist\",\"1\",\"VCT\"],[\"Protections Exist\",\"1\",\"SUR\"],[\"Protections Exist\",\"1\",\"SWE\"],[\"Protections Exist\",\"1\",\"CHE\"],[\"Protections Exist\",\"1\",\"TJK\"],[\"Protections Exist\",\"1\",\"THA\"],[\"Protections Exist\",\"1\",\"TLS\"],[\"Protections Exist\",\"1\",\"TGO\"],[\"Protections Exist\",\"1\",\"TON\"],[\"Protections Exist\",\"1\",\"TTO\"],[\"Protections Exist\",\"1\",\"TUN\"],[\"Protections Exist\",\"1\",\"TUR\"],[\"Protections Exist\",\"1\",\"UGA\"],[\"Protections Exist\",\"1\",\"UKR\"],[\"Protections Exist\",\"1\",\"ARE\"],[\"Protections Exist\",\"1\",\"GBR\"],[\"Protections Exist\",\"1\",\"USA\"],[\"Protections Exist\",\"1\",\"URY\"],[\"Protections Exist\",\"1\",\"UZB\"],[\"Protections Exist\",\"1\",\"VUT\"],[\"Protections Exist\",\"1\",\"VEN\"],[\"Protections Exist\",\"1\",\"VNM\"],[\"Protections Exist\",\"1\",\"ZMB\"],[\"Protections Exist\",\"1\",\"ZWE\"]],\"geo\":\"geo\",\"hovertemplate\":\"\\u003cb\\u003e%{hovertext}\\u003c\\u002fb\\u003e\\u003cbr\\u003e\\u003cbr\\u003elawStatus=%{customdata[0]}\\u003cextra\\u003e\\u003c\\u002fextra\\u003e\",\"hovertext\":[\"Albania\",\"Algeria\",\"Angola\",\"Antigua and Barbuda\",\"Argentina\",\"Armenia\",\"Australia\",\"Austria\",\"Azerbaijan\",\"Bahamas, The\",\"Bahrain\",\"Bangladesh\",\"Barbados\",\"Belarus\",\"Belgium\",\"Belize\",\"Benin\",\"Bhutan\",\"Bolivia\",\"Bosnia and Herzegovina\",\"Botswana\",\"Brazil\",\"Brunei Darussalam\",\"Bulgaria\",\"Burkina Faso\",\"Burundi\",\"Cabo Verde\",\"Cambodia\",\"Canada\",\"Central African Republic\",\"Chad\",\"Chile\",\"China\",\"Colombia\",\"Comoros\",\"Congo, Rep.\",\"Costa Rica\",\"Cote d'Ivoire\",\"Croatia\",\"Cyprus\",\"Czechia\",\"Denmark\",\"Djibouti\",\"Dominica\",\"Dominican Republic\",\"Ecuador\",\"Egypt, Arab Rep.\",\"El Salvador\",\"Eswatini\",\"Ethiopia\",\"Fiji\",\"Finland\",\"France\",\"Gabon\",\"Gambia, The\",\"Georgia\",\"Germany\",\"Ghana\",\"Greece\",\"Grenada\",\"Guatemala\",\"Guinea-Bissau\",\"Guyana\",\"Honduras\",\"Hong Kong SAR, China\",\"Hungary\",\"Iceland\",\"India\",\"Indonesia\",\"Ireland\",\"Israel\",\"Italy\",\"Jamaica\",\"Japan\",\"Jordan\",\"Kazakhstan\",\"Kenya\",\"Kiribati\",\"Korea, Rep.\",\"Kosovo\",\"Kuwait\",\"Kyrgyz Republic\",\"Lao PDR\",\"Latvia\",\"Lebanon\",\"Lesotho\",\"Liberia\",\"Lithuania\",\"Luxembourg\",\"Madagascar\",\"Malawi\",\"Malaysia\",\"Maldives\",\"Malta\",\"Marshall Islands\",\"Mauritius\",\"Mexico\",\"Micronesia, Fed. Sts.\",\"Moldova\",\"Mongolia\",\"Montenegro\",\"Morocco\",\"Mozambique\",\"Namibia\",\"Nepal\",\"Netherlands\",\"New Zealand\",\"Nicaragua\",\"Nigeria\",\"North Macedonia\",\"Norway\",\"Pakistan\",\"Palau\",\"Panama\",\"Papua New Guinea\",\"Paraguay\",\"Peru\",\"Philippines\",\"Poland\",\"Portugal\",\"Puerto Rico\",\"Romania\",\"Rwanda\",\"Samoa\",\"San Marino\",\"Sao Tome and Principe\",\"Saudi Arabia\",\"Senegal\",\"Serbia\",\"Seychelles\",\"Sierra Leone\",\"Singapore\",\"Slovak Republic\",\"Slovenia\",\"Solomon Islands\",\"South Africa\",\"Spain\",\"Sri Lanka\",\"St. Kitts and Nevis\",\"St. Lucia\",\"St. Vincent and the Grenadines\",\"Suriname\",\"Sweden\",\"Switzerland\",\"Tajikistan\",\"Thailand\",\"Timor-Leste\",\"Togo\",\"Tonga\",\"Trinidad and Tobago\",\"Tunisia\",\"Turkiye\",\"Uganda\",\"Ukraine\",\"United Arab Emirates\",\"United Kingdom\",\"United States\",\"Uruguay\",\"Uzbekistan\",\"Vanuatu\",\"Venezuela, RB\",\"Viet Nam\",\"Zambia\",\"Zimbabwe\"],\"locations\":[\"ALB\",\"DZA\",\"AGO\",\"ATG\",\"ARG\",\"ARM\",\"AUS\",\"AUT\",\"AZE\",\"BHS\",\"BHR\",\"BGD\",\"BRB\",\"BLR\",\"BEL\",\"BLZ\",\"BEN\",\"BTN\",\"BOL\",\"BIH\",\"BWA\",\"BRA\",\"BRN\",\"BGR\",\"BFA\",\"BDI\",\"CPV\",\"KHM\",\"CAN\",\"CAF\",\"TCD\",\"CHL\",\"CHN\",\"COL\",\"COM\",\"COG\",\"CRI\",\"CIV\",\"HRV\",\"CYP\",\"CZE\",\"DNK\",\"DJI\",\"DMA\",\"DOM\",\"ECU\",\"EGY\",\"SLV\",\"SWZ\",\"ETH\",\"FJI\",\"FIN\",\"FRA\",\"GAB\",\"GMB\",\"GEO\",\"DEU\",\"GHA\",\"GRC\",\"GRD\",\"GTM\",\"GNB\",\"GUY\",\"HND\",\"HKG\",\"HUN\",\"ISL\",\"IND\",\"IDN\",\"IRL\",\"ISR\",\"ITA\",\"JAM\",\"JPN\",\"JOR\",\"KAZ\",\"KEN\",\"KIR\",\"KOR\",\"XKX\",\"KWT\",\"KGZ\",\"LAO\",\"LVA\",\"LBN\",\"LSO\",\"LBR\",\"LTU\",\"LUX\",\"MDG\",\"MWI\",\"MYS\",\"MDV\",\"MLT\",\"MHL\",\"MUS\",\"MEX\",\"FSM\",\"MDA\",\"MNG\",\"MNE\",\"MAR\",\"MOZ\",\"NAM\",\"NPL\",\"NLD\",\"NZL\",\"NIC\",\"NGA\",\"MKD\",\"NOR\",\"PAK\",\"PLW\",\"PAN\",\"PNG\",\"PRY\",\"PER\",\"PHL\",\"POL\",\"PRT\",\"PRI\",\"ROU\",\"RWA\",\"WSM\",\"SMR\",\"STP\",\"SAU\",\"SEN\",\"SRB\",\"SYC\",\"SLE\",\"SGP\",\"SVK\",\"SVN\",\"SLB\",\"ZAF\",\"ESP\",\"LKA\",\"KNA\",\"LCA\",\"VCT\",\"SUR\",\"SWE\",\"CHE\",\"TJK\",\"THA\",\"TLS\",\"TGO\",\"TON\",\"TTO\",\"TUN\",\"TUR\",\"UGA\",\"UKR\",\"ARE\",\"GBR\",\"USA\",\"URY\",\"UZB\",\"VUT\",\"VEN\",\"VNM\",\"ZMB\",\"ZWE\"],\"name\":\"1\",\"showlegend\":true,\"showscale\":false,\"z\":[1,1,1,1,1,1,1,1,1,1,1,1,1,1,1,1,1,1,1,1,1,1,1,1,1,1,1,1,1,1,1,1,1,1,1,1,1,1,1,1,1,1,1,1,1,1,1,1,1,1,1,1,1,1,1,1,1,1,1,1,1,1,1,1,1,1,1,1,1,1,1,1,1,1,1,1,1,1,1,1,1,1,1,1,1,1,1,1,1,1,1,1,1,1,1,1,1,1,1,1,1,1,1,1,1,1,1,1,1,1,1,1,1,1,1,1,1,1,1,1,1,1,1,1,1,1,1,1,1,1,1,1,1,1,1,1,1,1,1,1,1,1,1,1,1,1,1,1,1,1,1,1,1,1,1,1,1,1,1,1,1,1,1,1],\"type\":\"choropleth\"},{\"colorscale\":[[0.0,\"#00cc96\"],[1.0,\"#00cc96\"]],\"customdata\":[[\"No Data\",\"..\",\"ASM\"],[\"No Data\",\"..\",\"AND\"],[\"No Data\",\"..\",\"ABW\"],[\"No Data\",\"..\",\"BMU\"],[\"No Data\",\"..\",\"VGB\"],[\"No Data\",\"..\",\"CYM\"],[\"No Data\",\"..\",\"CHI\"],[\"No Data\",\"..\",\"CUB\"],[\"No Data\",\"..\",\"CUW\"],[\"No Data\",\"..\",\"FRO\"],[\"No Data\",\"..\",\"PYF\"],[\"No Data\",\"..\",\"GIB\"],[\"No Data\",\"..\",\"GRL\"],[\"No Data\",\"..\",\"GUM\"],[\"No Data\",\"..\",\"IMN\"],[\"No Data\",\"..\",\"PRK\"],[\"No Data\",\"..\",\"LIE\"],[\"No Data\",\"..\",\"MAC\"],[\"No Data\",\"..\",\"MCO\"],[\"No Data\",\"..\",\"NRU\"],[\"No Data\",\"..\",\"NCL\"],[\"No Data\",\"..\",\"MNP\"],[\"No Data\",\"..\",\"SXM\"],[\"No Data\",\"..\",\"MAF\"],[\"No Data\",\"..\",\"TKM\"],[\"No Data\",\"..\",\"TCA\"],[\"No Data\",\"..\",\"TUV\"],[\"No Data\",\"..\",\"VIR\"],[\"No Data\",\"..\",\"AFE\"],[\"No Data\",\"..\",\"AFW\"],[\"No Data\",\"..\",\"ARB\"],[\"No Data\",\"..\",\"CSS\"],[\"No Data\",\"..\",\"CEB\"],[\"No Data\",\"..\",\"EAR\"],[\"No Data\",\"..\",\"EAS\"],[\"No Data\",\"..\",\"EAP\"],[\"No Data\",\"..\",\"TEA\"],[\"No Data\",\"..\",\"EMU\"],[\"No Data\",\"..\",\"ECS\"],[\"No Data\",\"..\",\"ECA\"],[\"No Data\",\"..\",\"TEC\"],[\"No Data\",\"..\",\"EUU\"],[\"No Data\",\"..\",\"FCS\"],[\"No Data\",\"..\",\"HPC\"],[\"No Data\",\"..\",\"HIC\"],[\"No Data\",\"..\",\"IBD\"],[\"No Data\",\"..\",\"IBT\"],[\"No Data\",\"..\",\"IDB\"],[\"No Data\",\"..\",\"IDX\"],[\"No Data\",\"..\",\"IDA\"],[\"No Data\",\"..\",\"LTE\"],[\"No Data\",\"..\",\"LCN\"],[\"No Data\",\"..\",\"LAC\"],[\"No Data\",\"..\",\"TLA\"],[\"No Data\",\"..\",\"LDC\"],[\"No Data\",\"..\",\"LMY\"],[\"No Data\",\"..\",\"LIC\"],[\"No Data\",\"..\",\"LMC\"],[\"No Data\",\"..\",\"MEA\"],[\"No Data\",\"..\",\"MNA\"],[\"No Data\",\"..\",\"TMN\"],[\"No Data\",\"..\",\"MIC\"],[\"No Data\",\"..\",\"NAC\"],[\"No Data\",\"..\",\"OED\"],[\"No Data\",\"..\",\"OSS\"],[\"No Data\",\"..\",\"PSS\"],[\"No Data\",\"..\",\"PST\"],[\"No Data\",\"..\",\"PRE\"],[\"No Data\",\"..\",\"SST\"],[\"No Data\",\"..\",\"SAS\"],[\"No Data\",\"..\",\"TSA\"],[\"No Data\",\"..\",\"SSF\"],[\"No Data\",\"..\",\"SSA\"],[\"No Data\",\"..\",\"TSS\"],[\"No Data\",\"..\",\"UMC\"],[\"No Data\",\"..\",\"WLD\"]],\"geo\":\"geo\",\"hovertemplate\":\"\\u003cb\\u003e%{hovertext}\\u003c\\u002fb\\u003e\\u003cbr\\u003e\\u003cbr\\u003elawStatus=%{customdata[0]}\\u003cextra\\u003e\\u003c\\u002fextra\\u003e\",\"hovertext\":[\"American Samoa\",\"Andorra\",\"Aruba\",\"Bermuda\",\"British Virgin Islands\",\"Cayman Islands\",\"Channel Islands\",\"Cuba\",\"Curacao\",\"Faroe Islands\",\"French Polynesia\",\"Gibraltar\",\"Greenland\",\"Guam\",\"Isle of Man\",\"Korea, Dem. People's Rep.\",\"Liechtenstein\",\"Macao SAR, China\",\"Monaco\",\"Nauru\",\"New Caledonia\",\"Northern Mariana Islands\",\"Sint Maarten (Dutch part)\",\"St. Martin (French part)\",\"Turkmenistan\",\"Turks and Caicos Islands\",\"Tuvalu\",\"Virgin Islands (U.S.)\",\"Africa Eastern and Southern\",\"Africa Western and Central\",\"Arab World\",\"Caribbean small states\",\"Central Europe and the Baltics\",\"Early-demographic dividend\",\"East Asia & Pacific\",\"East Asia & Pacific (excluding high income)\",\"East Asia & Pacific (IDA & IBRD)\",\"Euro area\",\"Europe & Central Asia\",\"Europe & Central Asia (excluding high income)\",\"Europe & Central Asia (IDA & IBRD)\",\"European Union\",\"Fragile and conflict affected situations\",\"Heavily indebted poor countries (HIPC)\",\"High income\",\"IBRD only\",\"IDA & IBRD total\",\"IDA blend\",\"IDA only\",\"IDA total\",\"Late-demographic dividend\",\"Latin America & Caribbean\",\"Latin America & Caribbean (excluding high income)\",\"Latin America & Caribbean (IDA & IBRD)\",\"Least developed countries: UN classification\",\"Low & middle income\",\"Low income\",\"Lower middle income\",\"Middle East & North Africa\",\"Middle East & North Africa (excluding high income)\",\"Middle East & North Africa (IDA & IBRD)\",\"Middle income\",\"North America\",\"OECD members\",\"Other small states\",\"Pacific island small states\",\"Post-demographic dividend\",\"Pre-demographic dividend\",\"Small states\",\"South Asia\",\"South Asia (IDA & IBRD)\",\"Sub-Saharan Africa\",\"Sub-Saharan Africa (excluding high income)\",\"Sub-Saharan Africa (IDA & IBRD)\",\"Upper middle income\",\"World\"],\"locations\":[\"ASM\",\"AND\",\"ABW\",\"BMU\",\"VGB\",\"CYM\",\"CHI\",\"CUB\",\"CUW\",\"FRO\",\"PYF\",\"GIB\",\"GRL\",\"GUM\",\"IMN\",\"PRK\",\"LIE\",\"MAC\",\"MCO\",\"NRU\",\"NCL\",\"MNP\",\"SXM\",\"MAF\",\"TKM\",\"TCA\",\"TUV\",\"VIR\",\"AFE\",\"AFW\",\"ARB\",\"CSS\",\"CEB\",\"EAR\",\"EAS\",\"EAP\",\"TEA\",\"EMU\",\"ECS\",\"ECA\",\"TEC\",\"EUU\",\"FCS\",\"HPC\",\"HIC\",\"IBD\",\"IBT\",\"IDB\",\"IDX\",\"IDA\",\"LTE\",\"LCN\",\"LAC\",\"TLA\",\"LDC\",\"LMY\",\"LIC\",\"LMC\",\"MEA\",\"MNA\",\"TMN\",\"MIC\",\"NAC\",\"OED\",\"OSS\",\"PSS\",\"PST\",\"PRE\",\"SST\",\"SAS\",\"TSA\",\"SSF\",\"SSA\",\"TSS\",\"UMC\",\"WLD\"],\"name\":\"..\",\"showlegend\":true,\"showscale\":false,\"z\":[1,1,1,1,1,1,1,1,1,1,1,1,1,1,1,1,1,1,1,1,1,1,1,1,1,1,1,1,1,1,1,1,1,1,1,1,1,1,1,1,1,1,1,1,1,1,1,1,1,1,1,1,1,1,1,1,1,1,1,1,1,1,1,1,1,1,1,1,1,1,1,1,1,1,1,1],\"type\":\"choropleth\"}],                        {\"template\":{\"data\":{\"histogram2dcontour\":[{\"type\":\"histogram2dcontour\",\"colorbar\":{\"outlinewidth\":0,\"ticks\":\"\"},\"colorscale\":[[0.0,\"#0d0887\"],[0.1111111111111111,\"#46039f\"],[0.2222222222222222,\"#7201a8\"],[0.3333333333333333,\"#9c179e\"],[0.4444444444444444,\"#bd3786\"],[0.5555555555555556,\"#d8576b\"],[0.6666666666666666,\"#ed7953\"],[0.7777777777777778,\"#fb9f3a\"],[0.8888888888888888,\"#fdca26\"],[1.0,\"#f0f921\"]]}],\"choropleth\":[{\"type\":\"choropleth\",\"colorbar\":{\"outlinewidth\":0,\"ticks\":\"\"}}],\"histogram2d\":[{\"type\":\"histogram2d\",\"colorbar\":{\"outlinewidth\":0,\"ticks\":\"\"},\"colorscale\":[[0.0,\"#0d0887\"],[0.1111111111111111,\"#46039f\"],[0.2222222222222222,\"#7201a8\"],[0.3333333333333333,\"#9c179e\"],[0.4444444444444444,\"#bd3786\"],[0.5555555555555556,\"#d8576b\"],[0.6666666666666666,\"#ed7953\"],[0.7777777777777778,\"#fb9f3a\"],[0.8888888888888888,\"#fdca26\"],[1.0,\"#f0f921\"]]}],\"heatmap\":[{\"type\":\"heatmap\",\"colorbar\":{\"outlinewidth\":0,\"ticks\":\"\"},\"colorscale\":[[0.0,\"#0d0887\"],[0.1111111111111111,\"#46039f\"],[0.2222222222222222,\"#7201a8\"],[0.3333333333333333,\"#9c179e\"],[0.4444444444444444,\"#bd3786\"],[0.5555555555555556,\"#d8576b\"],[0.6666666666666666,\"#ed7953\"],[0.7777777777777778,\"#fb9f3a\"],[0.8888888888888888,\"#fdca26\"],[1.0,\"#f0f921\"]]}],\"heatmapgl\":[{\"type\":\"heatmapgl\",\"colorbar\":{\"outlinewidth\":0,\"ticks\":\"\"},\"colorscale\":[[0.0,\"#0d0887\"],[0.1111111111111111,\"#46039f\"],[0.2222222222222222,\"#7201a8\"],[0.3333333333333333,\"#9c179e\"],[0.4444444444444444,\"#bd3786\"],[0.5555555555555556,\"#d8576b\"],[0.6666666666666666,\"#ed7953\"],[0.7777777777777778,\"#fb9f3a\"],[0.8888888888888888,\"#fdca26\"],[1.0,\"#f0f921\"]]}],\"contourcarpet\":[{\"type\":\"contourcarpet\",\"colorbar\":{\"outlinewidth\":0,\"ticks\":\"\"}}],\"contour\":[{\"type\":\"contour\",\"colorbar\":{\"outlinewidth\":0,\"ticks\":\"\"},\"colorscale\":[[0.0,\"#0d0887\"],[0.1111111111111111,\"#46039f\"],[0.2222222222222222,\"#7201a8\"],[0.3333333333333333,\"#9c179e\"],[0.4444444444444444,\"#bd3786\"],[0.5555555555555556,\"#d8576b\"],[0.6666666666666666,\"#ed7953\"],[0.7777777777777778,\"#fb9f3a\"],[0.8888888888888888,\"#fdca26\"],[1.0,\"#f0f921\"]]}],\"surface\":[{\"type\":\"surface\",\"colorbar\":{\"outlinewidth\":0,\"ticks\":\"\"},\"colorscale\":[[0.0,\"#0d0887\"],[0.1111111111111111,\"#46039f\"],[0.2222222222222222,\"#7201a8\"],[0.3333333333333333,\"#9c179e\"],[0.4444444444444444,\"#bd3786\"],[0.5555555555555556,\"#d8576b\"],[0.6666666666666666,\"#ed7953\"],[0.7777777777777778,\"#fb9f3a\"],[0.8888888888888888,\"#fdca26\"],[1.0,\"#f0f921\"]]}],\"mesh3d\":[{\"type\":\"mesh3d\",\"colorbar\":{\"outlinewidth\":0,\"ticks\":\"\"}}],\"scatter\":[{\"fillpattern\":{\"fillmode\":\"overlay\",\"size\":10,\"solidity\":0.2},\"type\":\"scatter\"}],\"parcoords\":[{\"type\":\"parcoords\",\"line\":{\"colorbar\":{\"outlinewidth\":0,\"ticks\":\"\"}}}],\"scatterpolargl\":[{\"type\":\"scatterpolargl\",\"marker\":{\"colorbar\":{\"outlinewidth\":0,\"ticks\":\"\"}}}],\"bar\":[{\"error_x\":{\"color\":\"#2a3f5f\"},\"error_y\":{\"color\":\"#2a3f5f\"},\"marker\":{\"line\":{\"color\":\"#E5ECF6\",\"width\":0.5},\"pattern\":{\"fillmode\":\"overlay\",\"size\":10,\"solidity\":0.2}},\"type\":\"bar\"}],\"scattergeo\":[{\"type\":\"scattergeo\",\"marker\":{\"colorbar\":{\"outlinewidth\":0,\"ticks\":\"\"}}}],\"scatterpolar\":[{\"type\":\"scatterpolar\",\"marker\":{\"colorbar\":{\"outlinewidth\":0,\"ticks\":\"\"}}}],\"histogram\":[{\"marker\":{\"pattern\":{\"fillmode\":\"overlay\",\"size\":10,\"solidity\":0.2}},\"type\":\"histogram\"}],\"scattergl\":[{\"type\":\"scattergl\",\"marker\":{\"colorbar\":{\"outlinewidth\":0,\"ticks\":\"\"}}}],\"scatter3d\":[{\"type\":\"scatter3d\",\"line\":{\"colorbar\":{\"outlinewidth\":0,\"ticks\":\"\"}},\"marker\":{\"colorbar\":{\"outlinewidth\":0,\"ticks\":\"\"}}}],\"scattermapbox\":[{\"type\":\"scattermapbox\",\"marker\":{\"colorbar\":{\"outlinewidth\":0,\"ticks\":\"\"}}}],\"scatterternary\":[{\"type\":\"scatterternary\",\"marker\":{\"colorbar\":{\"outlinewidth\":0,\"ticks\":\"\"}}}],\"scattercarpet\":[{\"type\":\"scattercarpet\",\"marker\":{\"colorbar\":{\"outlinewidth\":0,\"ticks\":\"\"}}}],\"carpet\":[{\"aaxis\":{\"endlinecolor\":\"#2a3f5f\",\"gridcolor\":\"white\",\"linecolor\":\"white\",\"minorgridcolor\":\"white\",\"startlinecolor\":\"#2a3f5f\"},\"baxis\":{\"endlinecolor\":\"#2a3f5f\",\"gridcolor\":\"white\",\"linecolor\":\"white\",\"minorgridcolor\":\"white\",\"startlinecolor\":\"#2a3f5f\"},\"type\":\"carpet\"}],\"table\":[{\"cells\":{\"fill\":{\"color\":\"#EBF0F8\"},\"line\":{\"color\":\"white\"}},\"header\":{\"fill\":{\"color\":\"#C8D4E3\"},\"line\":{\"color\":\"white\"}},\"type\":\"table\"}],\"barpolar\":[{\"marker\":{\"line\":{\"color\":\"#E5ECF6\",\"width\":0.5},\"pattern\":{\"fillmode\":\"overlay\",\"size\":10,\"solidity\":0.2}},\"type\":\"barpolar\"}],\"pie\":[{\"automargin\":true,\"type\":\"pie\"}]},\"layout\":{\"autotypenumbers\":\"strict\",\"colorway\":[\"#636efa\",\"#EF553B\",\"#00cc96\",\"#ab63fa\",\"#FFA15A\",\"#19d3f3\",\"#FF6692\",\"#B6E880\",\"#FF97FF\",\"#FECB52\"],\"font\":{\"color\":\"#2a3f5f\"},\"hovermode\":\"closest\",\"hoverlabel\":{\"align\":\"left\"},\"paper_bgcolor\":\"white\",\"plot_bgcolor\":\"#E5ECF6\",\"polar\":{\"bgcolor\":\"#E5ECF6\",\"angularaxis\":{\"gridcolor\":\"white\",\"linecolor\":\"white\",\"ticks\":\"\"},\"radialaxis\":{\"gridcolor\":\"white\",\"linecolor\":\"white\",\"ticks\":\"\"}},\"ternary\":{\"bgcolor\":\"#E5ECF6\",\"aaxis\":{\"gridcolor\":\"white\",\"linecolor\":\"white\",\"ticks\":\"\"},\"baxis\":{\"gridcolor\":\"white\",\"linecolor\":\"white\",\"ticks\":\"\"},\"caxis\":{\"gridcolor\":\"white\",\"linecolor\":\"white\",\"ticks\":\"\"}},\"coloraxis\":{\"colorbar\":{\"outlinewidth\":0,\"ticks\":\"\"}},\"colorscale\":{\"sequential\":[[0.0,\"#0d0887\"],[0.1111111111111111,\"#46039f\"],[0.2222222222222222,\"#7201a8\"],[0.3333333333333333,\"#9c179e\"],[0.4444444444444444,\"#bd3786\"],[0.5555555555555556,\"#d8576b\"],[0.6666666666666666,\"#ed7953\"],[0.7777777777777778,\"#fb9f3a\"],[0.8888888888888888,\"#fdca26\"],[1.0,\"#f0f921\"]],\"sequentialminus\":[[0.0,\"#0d0887\"],[0.1111111111111111,\"#46039f\"],[0.2222222222222222,\"#7201a8\"],[0.3333333333333333,\"#9c179e\"],[0.4444444444444444,\"#bd3786\"],[0.5555555555555556,\"#d8576b\"],[0.6666666666666666,\"#ed7953\"],[0.7777777777777778,\"#fb9f3a\"],[0.8888888888888888,\"#fdca26\"],[1.0,\"#f0f921\"]],\"diverging\":[[0,\"#8e0152\"],[0.1,\"#c51b7d\"],[0.2,\"#de77ae\"],[0.3,\"#f1b6da\"],[0.4,\"#fde0ef\"],[0.5,\"#f7f7f7\"],[0.6,\"#e6f5d0\"],[0.7,\"#b8e186\"],[0.8,\"#7fbc41\"],[0.9,\"#4d9221\"],[1,\"#276419\"]]},\"xaxis\":{\"gridcolor\":\"white\",\"linecolor\":\"white\",\"ticks\":\"\",\"title\":{\"standoff\":15},\"zerolinecolor\":\"white\",\"automargin\":true,\"zerolinewidth\":2},\"yaxis\":{\"gridcolor\":\"white\",\"linecolor\":\"white\",\"ticks\":\"\",\"title\":{\"standoff\":15},\"zerolinecolor\":\"white\",\"automargin\":true,\"zerolinewidth\":2},\"scene\":{\"xaxis\":{\"backgroundcolor\":\"#E5ECF6\",\"gridcolor\":\"white\",\"linecolor\":\"white\",\"showbackground\":true,\"ticks\":\"\",\"zerolinecolor\":\"white\",\"gridwidth\":2},\"yaxis\":{\"backgroundcolor\":\"#E5ECF6\",\"gridcolor\":\"white\",\"linecolor\":\"white\",\"showbackground\":true,\"ticks\":\"\",\"zerolinecolor\":\"white\",\"gridwidth\":2},\"zaxis\":{\"backgroundcolor\":\"#E5ECF6\",\"gridcolor\":\"white\",\"linecolor\":\"white\",\"showbackground\":true,\"ticks\":\"\",\"zerolinecolor\":\"white\",\"gridwidth\":2}},\"shapedefaults\":{\"line\":{\"color\":\"#2a3f5f\"}},\"annotationdefaults\":{\"arrowcolor\":\"#2a3f5f\",\"arrowhead\":0,\"arrowwidth\":1},\"geo\":{\"bgcolor\":\"white\",\"landcolor\":\"#E5ECF6\",\"subunitcolor\":\"white\",\"showland\":true,\"showlakes\":true,\"lakecolor\":\"white\"},\"title\":{\"x\":0.05},\"mapbox\":{\"style\":\"light\"}}},\"geo\":{\"domain\":{\"x\":[0.0,1.0],\"y\":[0.0,1.0]},\"center\":{}},\"legend\":{\"title\":{\"text\":\"2023\"},\"tracegroupgap\":0,\"yanchor\":\"top\",\"y\":0.99,\"xanchor\":\"left\",\"x\":0.1},\"title\":{\"text\":\"Examining Global Protection Standards\"}},                        {\"responsive\": true}                    ).then(function(){\n",
       "                            \n",
       "var gd = document.getElementById('e229e2e0-c12f-4a19-9a73-7e93798836a2');\n",
       "var x = new MutationObserver(function (mutations, observer) {{\n",
       "        var display = window.getComputedStyle(gd).display;\n",
       "        if (!display || display === 'none') {{\n",
       "            console.log([gd, 'removed!']);\n",
       "            Plotly.purge(gd);\n",
       "            observer.disconnect();\n",
       "        }}\n",
       "}});\n",
       "\n",
       "// Listen for the removal of the full notebook cells\n",
       "var notebookContainer = gd.closest('#notebook-container');\n",
       "if (notebookContainer) {{\n",
       "    x.observe(notebookContainer, {childList: true});\n",
       "}}\n",
       "\n",
       "// Listen for the clearing of the current output cell\n",
       "var outputEl = gd.closest('.output');\n",
       "if (outputEl) {{\n",
       "    x.observe(outputEl, {childList: true});\n",
       "}}\n",
       "\n",
       "                        })                };                });            </script>        </div>"
      ]
     },
     "metadata": {},
     "output_type": "display_data"
    }
   ],
   "source": [
    "df['lawStatus'] = df['2023'].map({'1':'Protections Exist', '0':'No Protections Exist', '..':'No Data'})\n",
    "mapFig = px.choropleth(df, title=\"Examining Global Protection Standards\", locations=\"code\", color='2023', hover_name=\"Country\", hover_data={'lawStatus': True, '2023': False, 'code':False})\n",
    "\n",
    "mapFig.update_layout(legend=dict(\n",
    "    yanchor=\"top\",\n",
    "    y=0.99,\n",
    "    xanchor=\"left\",\n",
    "    x=0.1\n",
    "))\n",
    "\n",
    "mapFig.show()"
   ]
  }
 ],
 "metadata": {
  "kernelspec": {
   "display_name": "Python 3 (ipykernel)",
   "language": "python",
   "name": "python3"
  },
  "language_info": {
   "codemirror_mode": {
    "name": "ipython",
    "version": 3
   },
   "file_extension": ".py",
   "mimetype": "text/x-python",
   "name": "python",
   "nbconvert_exporter": "python",
   "pygments_lexer": "ipython3",
   "version": "3.12.4"
  }
 },
 "nbformat": 4,
 "nbformat_minor": 5
}
