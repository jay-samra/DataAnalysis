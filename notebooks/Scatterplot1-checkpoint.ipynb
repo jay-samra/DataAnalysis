{
 "cells": [
  {
   "cell_type": "code",
   "execution_count": 136,
   "id": "c5d15adf-519c-4b63-be0c-762b68afab5e",
   "metadata": {},
   "outputs": [],
   "source": [
    "import pandas as pd\n",
    "import numpy as np\n",
    "import country_converter as coco\n",
    "import plotly.express as px\n",
    "df = pd.read_csv('salary_data.csv', encoding='ISO-8859-1')\n",
    "df2 = pd.read_csv('modifiedLawsProtectingWomen.csv', encoding='ISO-8859-1')\n",
    "df3 = pd.read_csv('violenceperception.csv')"
   ]
  },
  {
   "cell_type": "code",
   "execution_count": 137,
   "id": "663d6719-31ee-4a52-b478-8e25db3f83f2",
   "metadata": {},
   "outputs": [
    {
     "data": {
      "text/html": [
       "<div>\n",
       "<style scoped>\n",
       "    .dataframe tbody tr th:only-of-type {\n",
       "        vertical-align: middle;\n",
       "    }\n",
       "\n",
       "    .dataframe tbody tr th {\n",
       "        vertical-align: top;\n",
       "    }\n",
       "\n",
       "    .dataframe thead th {\n",
       "        text-align: right;\n",
       "    }\n",
       "</style>\n",
       "<table border=\"1\" class=\"dataframe\">\n",
       "  <thead>\n",
       "    <tr style=\"text-align: right;\">\n",
       "      <th></th>\n",
       "      <th>Series Name</th>\n",
       "      <th>Series Code</th>\n",
       "      <th>Country</th>\n",
       "      <th>code</th>\n",
       "      <th>1990 [YR1990]</th>\n",
       "      <th>2000 [YR2000]</th>\n",
       "      <th>2014 [YR2014]</th>\n",
       "      <th>2015 [YR2015]</th>\n",
       "      <th>2016 [YR2016]</th>\n",
       "      <th>2017 [YR2017]</th>\n",
       "      <th>2018 [YR2018]</th>\n",
       "      <th>2019 [YR2019]</th>\n",
       "      <th>2020 [YR2020]</th>\n",
       "      <th>2021 [YR2021]</th>\n",
       "      <th>2022 [YR2022]</th>\n",
       "      <th>2023</th>\n",
       "      <th>lawStatus</th>\n",
       "    </tr>\n",
       "  </thead>\n",
       "  <tbody>\n",
       "    <tr>\n",
       "      <th>0</th>\n",
       "      <td>There is legislation specifically addressing d...</td>\n",
       "      <td>SG.LEG.DVAW</td>\n",
       "      <td>Afghanistan</td>\n",
       "      <td>AFG</td>\n",
       "      <td>0</td>\n",
       "      <td>0</td>\n",
       "      <td>0</td>\n",
       "      <td>0</td>\n",
       "      <td>0</td>\n",
       "      <td>0</td>\n",
       "      <td>0</td>\n",
       "      <td>0</td>\n",
       "      <td>0</td>\n",
       "      <td>0</td>\n",
       "      <td>0</td>\n",
       "      <td>0</td>\n",
       "      <td>No Protections Exist</td>\n",
       "    </tr>\n",
       "    <tr>\n",
       "      <th>1</th>\n",
       "      <td>There is legislation specifically addressing d...</td>\n",
       "      <td>SG.LEG.DVAW</td>\n",
       "      <td>Albania</td>\n",
       "      <td>ALB</td>\n",
       "      <td>0</td>\n",
       "      <td>0</td>\n",
       "      <td>1</td>\n",
       "      <td>1</td>\n",
       "      <td>1</td>\n",
       "      <td>1</td>\n",
       "      <td>1</td>\n",
       "      <td>1</td>\n",
       "      <td>1</td>\n",
       "      <td>1</td>\n",
       "      <td>1</td>\n",
       "      <td>1</td>\n",
       "      <td>Protections Exist</td>\n",
       "    </tr>\n",
       "    <tr>\n",
       "      <th>2</th>\n",
       "      <td>There is legislation specifically addressing d...</td>\n",
       "      <td>SG.LEG.DVAW</td>\n",
       "      <td>Algeria</td>\n",
       "      <td>DZA</td>\n",
       "      <td>0</td>\n",
       "      <td>0</td>\n",
       "      <td>0</td>\n",
       "      <td>0</td>\n",
       "      <td>1</td>\n",
       "      <td>1</td>\n",
       "      <td>1</td>\n",
       "      <td>1</td>\n",
       "      <td>1</td>\n",
       "      <td>1</td>\n",
       "      <td>1</td>\n",
       "      <td>1</td>\n",
       "      <td>Protections Exist</td>\n",
       "    </tr>\n",
       "  </tbody>\n",
       "</table>\n",
       "</div>"
      ],
      "text/plain": [
       "                                         Series Name  Series Code  \\\n",
       "0  There is legislation specifically addressing d...  SG.LEG.DVAW   \n",
       "1  There is legislation specifically addressing d...  SG.LEG.DVAW   \n",
       "2  There is legislation specifically addressing d...  SG.LEG.DVAW   \n",
       "\n",
       "       Country code 1990 [YR1990] 2000 [YR2000] 2014 [YR2014] 2015 [YR2015]  \\\n",
       "0  Afghanistan  AFG             0             0             0             0   \n",
       "1      Albania  ALB             0             0             1             1   \n",
       "2      Algeria  DZA             0             0             0             0   \n",
       "\n",
       "  2016 [YR2016] 2017 [YR2017] 2018 [YR2018] 2019 [YR2019] 2020 [YR2020]  \\\n",
       "0             0             0             0             0             0   \n",
       "1             1             1             1             1             1   \n",
       "2             1             1             1             1             1   \n",
       "\n",
       "  2021 [YR2021] 2022 [YR2022] 2023             lawStatus  \n",
       "0             0             0    0  No Protections Exist  \n",
       "1             1             1    1     Protections Exist  \n",
       "2             1             1    1     Protections Exist  "
      ]
     },
     "execution_count": 137,
     "metadata": {},
     "output_type": "execute_result"
    }
   ],
   "source": [
    "df2.head(3)"
   ]
  },
  {
   "cell_type": "code",
   "execution_count": 138,
   "id": "5a33f8c6-cc00-4f51-8d5a-f7d7390cbdf2",
   "metadata": {},
   "outputs": [],
   "source": [
    "df2.rename(columns={'Country':'country_name'}, inplace=True)\n",
    "df = pd.merge(df, df2[['country_name', '2023', 'lawStatus']], on='country_name', how='left')"
   ]
  },
  {
   "cell_type": "code",
   "execution_count": 139,
   "id": "a44411cc-14c9-48fb-a0ae-27949e82a2a4",
   "metadata": {},
   "outputs": [
    {
     "data": {
      "text/html": [
       "<div>\n",
       "<style scoped>\n",
       "    .dataframe tbody tr th:only-of-type {\n",
       "        vertical-align: middle;\n",
       "    }\n",
       "\n",
       "    .dataframe tbody tr th {\n",
       "        vertical-align: top;\n",
       "    }\n",
       "\n",
       "    .dataframe thead th {\n",
       "        text-align: right;\n",
       "    }\n",
       "</style>\n",
       "<table border=\"1\" class=\"dataframe\">\n",
       "  <thead>\n",
       "    <tr style=\"text-align: right;\">\n",
       "      <th></th>\n",
       "      <th>country_name</th>\n",
       "      <th>continent_name</th>\n",
       "      <th>wage_span</th>\n",
       "      <th>median_salary</th>\n",
       "      <th>average_salary</th>\n",
       "      <th>lowest_salary</th>\n",
       "      <th>highest_salary</th>\n",
       "      <th>2023</th>\n",
       "      <th>lawStatus</th>\n",
       "    </tr>\n",
       "  </thead>\n",
       "  <tbody>\n",
       "    <tr>\n",
       "      <th>0</th>\n",
       "      <td>Afghanistan</td>\n",
       "      <td>Asia</td>\n",
       "      <td>Monthly</td>\n",
       "      <td>853.74</td>\n",
       "      <td>1001.15</td>\n",
       "      <td>252.53</td>\n",
       "      <td>4460.97</td>\n",
       "      <td>0</td>\n",
       "      <td>No Protections Exist</td>\n",
       "    </tr>\n",
       "    <tr>\n",
       "      <th>1</th>\n",
       "      <td>Aland Islands</td>\n",
       "      <td>Europe</td>\n",
       "      <td>Monthly</td>\n",
       "      <td>3319.24</td>\n",
       "      <td>3858.35</td>\n",
       "      <td>972.52</td>\n",
       "      <td>17124.74</td>\n",
       "      <td>NaN</td>\n",
       "      <td>NaN</td>\n",
       "    </tr>\n",
       "  </tbody>\n",
       "</table>\n",
       "</div>"
      ],
      "text/plain": [
       "    country_name continent_name wage_span  median_salary  average_salary  \\\n",
       "0    Afghanistan           Asia   Monthly         853.74         1001.15   \n",
       "1  Aland Islands         Europe   Monthly        3319.24         3858.35   \n",
       "\n",
       "   lowest_salary  highest_salary 2023             lawStatus  \n",
       "0         252.53         4460.97    0  No Protections Exist  \n",
       "1         972.52        17124.74  NaN                   NaN  "
      ]
     },
     "execution_count": 139,
     "metadata": {},
     "output_type": "execute_result"
    }
   ],
   "source": [
    "df.head(2)\n",
    "\n",
    "# 2023 NAN values, lawStatus NAN values"
   ]
  },
  {
   "cell_type": "code",
   "execution_count": 150,
   "id": "e3cd3881-e1f5-44c2-b13d-d2885e43b8c3",
   "metadata": {},
   "outputs": [
    {
     "name": "stdout",
     "output_type": "stream",
     "text": [
      "     OBS_VALUE         country_name\n",
      "0         30.0           Mozambique\n",
      "1         45.0               Uganda\n",
      "2         46.0          Afghanistan\n",
      "3         32.0              Türkiye\n",
      "4         18.0              Ukraine\n",
      "..         ...                  ...\n",
      "183        NaN  Antigua and Barbuda\n",
      "184       29.0                 Mali\n",
      "185       20.0               Norway\n",
      "186        NaN    Brunei Darussalam\n",
      "187       50.0      Solomon Islands\n",
      "\n",
      "[188 rows x 2 columns]\n"
     ]
    }
   ],
   "source": [
    "df3.rename(columns={'Reference area':'country_name'}, inplace=True)\n",
    "print(df3[['OBS_VALUE', 'country_name']])"
   ]
  },
  {
   "cell_type": "code",
   "execution_count": 152,
   "id": "5de50b8b-dc6f-4050-a988-76be708984c9",
   "metadata": {},
   "outputs": [],
   "source": [
    "df = pd.merge(df, df3[['country_name', 'OBS_VALUE']], on='country_name', how='left')"
   ]
  },
  {
   "cell_type": "code",
   "execution_count": 154,
   "id": "1e293ba2-06fc-4e05-bff1-feb256ae3de4",
   "metadata": {},
   "outputs": [
    {
     "data": {
      "text/html": [
       "<div>\n",
       "<style scoped>\n",
       "    .dataframe tbody tr th:only-of-type {\n",
       "        vertical-align: middle;\n",
       "    }\n",
       "\n",
       "    .dataframe tbody tr th {\n",
       "        vertical-align: top;\n",
       "    }\n",
       "\n",
       "    .dataframe thead th {\n",
       "        text-align: right;\n",
       "    }\n",
       "</style>\n",
       "<table border=\"1\" class=\"dataframe\">\n",
       "  <thead>\n",
       "    <tr style=\"text-align: right;\">\n",
       "      <th></th>\n",
       "      <th>country_name</th>\n",
       "      <th>continent_name</th>\n",
       "      <th>wage_span</th>\n",
       "      <th>median_salary</th>\n",
       "      <th>average_salary</th>\n",
       "      <th>lowest_salary</th>\n",
       "      <th>highest_salary</th>\n",
       "      <th>2023</th>\n",
       "      <th>lawStatus</th>\n",
       "      <th>OBS_VALUE</th>\n",
       "    </tr>\n",
       "  </thead>\n",
       "  <tbody>\n",
       "    <tr>\n",
       "      <th>0</th>\n",
       "      <td>Afghanistan</td>\n",
       "      <td>Asia</td>\n",
       "      <td>Monthly</td>\n",
       "      <td>853.74</td>\n",
       "      <td>1001.15</td>\n",
       "      <td>252.53</td>\n",
       "      <td>4460.97</td>\n",
       "      <td>0</td>\n",
       "      <td>No Protections Exist</td>\n",
       "      <td>46.0</td>\n",
       "    </tr>\n",
       "    <tr>\n",
       "      <th>1</th>\n",
       "      <td>Aland Islands</td>\n",
       "      <td>Europe</td>\n",
       "      <td>Monthly</td>\n",
       "      <td>3319.24</td>\n",
       "      <td>3858.35</td>\n",
       "      <td>972.52</td>\n",
       "      <td>17124.74</td>\n",
       "      <td>NaN</td>\n",
       "      <td>NaN</td>\n",
       "      <td>NaN</td>\n",
       "    </tr>\n",
       "    <tr>\n",
       "      <th>2</th>\n",
       "      <td>Albania</td>\n",
       "      <td>Europe</td>\n",
       "      <td>Monthly</td>\n",
       "      <td>832.84</td>\n",
       "      <td>956.92</td>\n",
       "      <td>241.22</td>\n",
       "      <td>4258.49</td>\n",
       "      <td>1</td>\n",
       "      <td>Protections Exist</td>\n",
       "      <td>13.0</td>\n",
       "    </tr>\n",
       "    <tr>\n",
       "      <th>3</th>\n",
       "      <td>Algeria</td>\n",
       "      <td>Africa</td>\n",
       "      <td>Monthly</td>\n",
       "      <td>1148.84</td>\n",
       "      <td>1308.81</td>\n",
       "      <td>330.11</td>\n",
       "      <td>5824.18</td>\n",
       "      <td>1</td>\n",
       "      <td>Protections Exist</td>\n",
       "      <td>NaN</td>\n",
       "    </tr>\n",
       "    <tr>\n",
       "      <th>4</th>\n",
       "      <td>American Samoa</td>\n",
       "      <td>Oceania</td>\n",
       "      <td>Monthly</td>\n",
       "      <td>1390.00</td>\n",
       "      <td>1570.00</td>\n",
       "      <td>400.00</td>\n",
       "      <td>6980.00</td>\n",
       "      <td>..</td>\n",
       "      <td>No Data</td>\n",
       "      <td>NaN</td>\n",
       "    </tr>\n",
       "  </tbody>\n",
       "</table>\n",
       "</div>"
      ],
      "text/plain": [
       "     country_name continent_name wage_span  median_salary  average_salary  \\\n",
       "0     Afghanistan           Asia   Monthly         853.74         1001.15   \n",
       "1   Aland Islands         Europe   Monthly        3319.24         3858.35   \n",
       "2         Albania         Europe   Monthly         832.84          956.92   \n",
       "3         Algeria         Africa   Monthly        1148.84         1308.81   \n",
       "4  American Samoa        Oceania   Monthly        1390.00         1570.00   \n",
       "\n",
       "   lowest_salary  highest_salary 2023             lawStatus  OBS_VALUE  \n",
       "0         252.53         4460.97    0  No Protections Exist       46.0  \n",
       "1         972.52        17124.74  NaN                   NaN        NaN  \n",
       "2         241.22         4258.49    1     Protections Exist       13.0  \n",
       "3         330.11         5824.18    1     Protections Exist        NaN  \n",
       "4         400.00         6980.00   ..               No Data        NaN  "
      ]
     },
     "execution_count": 154,
     "metadata": {},
     "output_type": "execute_result"
    }
   ],
   "source": [
    "df.head(5)"
   ]
  },
  {
   "cell_type": "code",
   "execution_count": 202,
   "id": "60c9ad2d-6aa0-4f86-bbeb-7495be9816e3",
   "metadata": {},
   "outputs": [
    {
     "data": {
      "application/vnd.plotly.v1+json": {
       "config": {
        "plotlyServerURL": "https://plot.ly"
       },
       "data": [
        {
         "customdata": [
          [
           "No Protections Exist"
          ],
          [
           "No Protections Exist"
          ],
          [
           "No Protections Exist"
          ],
          [
           "No Protections Exist"
          ],
          [
           "No Protections Exist"
          ],
          [
           "No Protections Exist"
          ],
          [
           "No Protections Exist"
          ],
          [
           "No Protections Exist"
          ],
          [
           "No Protections Exist"
          ],
          [
           "No Protections Exist"
          ],
          [
           "No Protections Exist"
          ],
          [
           "No Protections Exist"
          ],
          [
           "No Protections Exist"
          ],
          [
           "No Protections Exist"
          ],
          [
           "No Protections Exist"
          ],
          [
           "No Protections Exist"
          ],
          [
           "No Protections Exist"
          ],
          [
           "No Protections Exist"
          ]
         ],
         "hovertemplate": "<b>%{hovertext}</b><br><br>lawStatus=%{customdata[0]}<br>Median Salary=%{x}<br>Observed Violence=%{y}<extra></extra>",
         "hovertext": [
          "Afghanistan",
          "Cameroon",
          "Equatorial Guinea",
          "Eritrea",
          "Estonia",
          "Guinea",
          "Haiti",
          "Iraq",
          "Libya",
          "Mali",
          "Mauritania",
          "Myanmar",
          "Niger",
          "Oman",
          "Qatar",
          "Somalia",
          "Sudan",
          "Tanzania"
         ],
         "legendgroup": "No Protections Exist",
         "marker": {
          "color": "#636efa",
          "symbol": "circle"
         },
         "mode": "markers",
         "name": "No Protections Exist",
         "orientation": "v",
         "showlegend": true,
         "type": "scatter",
         "x": [
          -0.5572584387771533,
          -0.6924326737194177,
          -0.668723381456446,
          -0.8342285884248085,
          0.5007020518214547,
          -0.6535364362960165,
          -0.8078951489964498,
          -0.23313947674205227,
          -0.8249214496466365,
          -0.7872759739562704,
          -1.0533430110150455,
          -0.9406291723223029,
          -0.7862888531767672,
          1.330257508886966,
          1.2774434815910676,
          -0.8402616744312125,
          -1.0392492824981239,
          -0.8000349698702203
         ],
         "xaxis": "x",
         "y": [
          2.1256285000689306,
          1.3997007440894056,
          2.1256285000689306,
          null,
          -0.46697062842937326,
          1.1922928138095412,
          -0.25956269814950894,
          0.051549197270287506,
          null,
          0.36266109269008395,
          -1.7321590031365455,
          -0.6743785587092376,
          null,
          null,
          -0.1558587330095768,
          null,
          null,
          1.2959967789494733
         ],
         "yaxis": "y"
        },
        {
         "customdata": [
          [
           "Protections Exist"
          ],
          [
           "Protections Exist"
          ],
          [
           "Protections Exist"
          ],
          [
           "Protections Exist"
          ],
          [
           "Protections Exist"
          ],
          [
           "Protections Exist"
          ],
          [
           "Protections Exist"
          ],
          [
           "Protections Exist"
          ],
          [
           "Protections Exist"
          ],
          [
           "Protections Exist"
          ],
          [
           "Protections Exist"
          ],
          [
           "Protections Exist"
          ],
          [
           "Protections Exist"
          ],
          [
           "Protections Exist"
          ],
          [
           "Protections Exist"
          ],
          [
           "Protections Exist"
          ],
          [
           "Protections Exist"
          ],
          [
           "Protections Exist"
          ],
          [
           "Protections Exist"
          ],
          [
           "Protections Exist"
          ],
          [
           "Protections Exist"
          ],
          [
           "Protections Exist"
          ],
          [
           "Protections Exist"
          ],
          [
           "Protections Exist"
          ],
          [
           "Protections Exist"
          ],
          [
           "Protections Exist"
          ],
          [
           "Protections Exist"
          ],
          [
           "Protections Exist"
          ],
          [
           "Protections Exist"
          ],
          [
           "Protections Exist"
          ],
          [
           "Protections Exist"
          ],
          [
           "Protections Exist"
          ],
          [
           "Protections Exist"
          ],
          [
           "Protections Exist"
          ],
          [
           "Protections Exist"
          ],
          [
           "Protections Exist"
          ],
          [
           "Protections Exist"
          ],
          [
           "Protections Exist"
          ],
          [
           "Protections Exist"
          ],
          [
           "Protections Exist"
          ],
          [
           "Protections Exist"
          ],
          [
           "Protections Exist"
          ],
          [
           "Protections Exist"
          ],
          [
           "Protections Exist"
          ],
          [
           "Protections Exist"
          ],
          [
           "Protections Exist"
          ],
          [
           "Protections Exist"
          ],
          [
           "Protections Exist"
          ],
          [
           "Protections Exist"
          ],
          [
           "Protections Exist"
          ],
          [
           "Protections Exist"
          ],
          [
           "Protections Exist"
          ],
          [
           "Protections Exist"
          ],
          [
           "Protections Exist"
          ],
          [
           "Protections Exist"
          ],
          [
           "Protections Exist"
          ],
          [
           "Protections Exist"
          ],
          [
           "Protections Exist"
          ],
          [
           "Protections Exist"
          ],
          [
           "Protections Exist"
          ],
          [
           "Protections Exist"
          ],
          [
           "Protections Exist"
          ],
          [
           "Protections Exist"
          ],
          [
           "Protections Exist"
          ],
          [
           "Protections Exist"
          ],
          [
           "Protections Exist"
          ],
          [
           "Protections Exist"
          ],
          [
           "Protections Exist"
          ],
          [
           "Protections Exist"
          ],
          [
           "Protections Exist"
          ],
          [
           "Protections Exist"
          ],
          [
           "Protections Exist"
          ],
          [
           "Protections Exist"
          ],
          [
           "Protections Exist"
          ],
          [
           "Protections Exist"
          ],
          [
           "Protections Exist"
          ],
          [
           "Protections Exist"
          ],
          [
           "Protections Exist"
          ],
          [
           "Protections Exist"
          ],
          [
           "Protections Exist"
          ],
          [
           "Protections Exist"
          ],
          [
           "Protections Exist"
          ],
          [
           "Protections Exist"
          ],
          [
           "Protections Exist"
          ],
          [
           "Protections Exist"
          ],
          [
           "Protections Exist"
          ],
          [
           "Protections Exist"
          ],
          [
           "Protections Exist"
          ],
          [
           "Protections Exist"
          ],
          [
           "Protections Exist"
          ],
          [
           "Protections Exist"
          ],
          [
           "Protections Exist"
          ],
          [
           "Protections Exist"
          ],
          [
           "Protections Exist"
          ],
          [
           "Protections Exist"
          ],
          [
           "Protections Exist"
          ],
          [
           "Protections Exist"
          ],
          [
           "Protections Exist"
          ],
          [
           "Protections Exist"
          ],
          [
           "Protections Exist"
          ],
          [
           "Protections Exist"
          ],
          [
           "Protections Exist"
          ],
          [
           "Protections Exist"
          ],
          [
           "Protections Exist"
          ],
          [
           "Protections Exist"
          ],
          [
           "Protections Exist"
          ],
          [
           "Protections Exist"
          ],
          [
           "Protections Exist"
          ],
          [
           "Protections Exist"
          ],
          [
           "Protections Exist"
          ],
          [
           "Protections Exist"
          ],
          [
           "Protections Exist"
          ],
          [
           "Protections Exist"
          ],
          [
           "Protections Exist"
          ],
          [
           "Protections Exist"
          ],
          [
           "Protections Exist"
          ],
          [
           "Protections Exist"
          ],
          [
           "Protections Exist"
          ],
          [
           "Protections Exist"
          ],
          [
           "Protections Exist"
          ],
          [
           "Protections Exist"
          ],
          [
           "Protections Exist"
          ],
          [
           "Protections Exist"
          ],
          [
           "Protections Exist"
          ],
          [
           "Protections Exist"
          ],
          [
           "Protections Exist"
          ],
          [
           "Protections Exist"
          ],
          [
           "Protections Exist"
          ],
          [
           "Protections Exist"
          ],
          [
           "Protections Exist"
          ],
          [
           "Protections Exist"
          ],
          [
           "Protections Exist"
          ],
          [
           "Protections Exist"
          ],
          [
           "Protections Exist"
          ],
          [
           "Protections Exist"
          ],
          [
           "Protections Exist"
          ],
          [
           "Protections Exist"
          ],
          [
           "Protections Exist"
          ]
         ],
         "hovertemplate": "<b>%{hovertext}</b><br><br>lawStatus=%{customdata[0]}<br>Median Salary=%{x}<br>Observed Violence=%{y}<extra></extra>",
         "hovertext": [
          "Albania",
          "Algeria",
          "Angola",
          "Antigua and Barbuda",
          "Argentina",
          "Armenia",
          "Australia",
          "Austria",
          "Azerbaijan",
          "Bahrain",
          "Bangladesh",
          "Barbados",
          "Belarus",
          "Belgium",
          "Belize",
          "Benin",
          "Bhutan",
          "Bolivia",
          "Bosnia and Herzegovina",
          "Botswana",
          "Brazil",
          "Bulgaria",
          "Burkina Faso",
          "Burundi",
          "Cambodia",
          "Canada",
          "Central African Republic",
          "Chad",
          "Chile",
          "China",
          "Colombia",
          "Comoros",
          "Costa Rica",
          "Croatia",
          "Cyprus",
          "Denmark",
          "Djibouti",
          "Dominica",
          "Dominican Republic",
          "Ecuador",
          "El Salvador",
          "Ethiopia",
          "Fiji",
          "Finland",
          "France",
          "Gabon",
          "Georgia",
          "Germany",
          "Ghana",
          "Greece",
          "Grenada",
          "Guatemala",
          "Guinea-Bissau",
          "Guyana",
          "Honduras",
          "Hungary",
          "Iceland",
          "India",
          "Indonesia",
          "Ireland",
          "Italy",
          "Jamaica",
          "Japan",
          "Jordan",
          "Kazakhstan",
          "Kenya",
          "Kiribati",
          "Latvia",
          "Lebanon",
          "Lesotho",
          "Liberia",
          "Lithuania",
          "Luxembourg",
          "Madagascar",
          "Malawi",
          "Malaysia",
          "Maldives",
          "Malta",
          "Marshall Islands",
          "Mauritius",
          "Mexico",
          "Moldova",
          "Mongolia",
          "Montenegro",
          "Morocco",
          "Mozambique",
          "Namibia",
          "Nepal",
          "Netherlands",
          "New Zealand",
          "Nicaragua",
          "Nigeria",
          "Norway",
          "Pakistan",
          "Palau",
          "Panama",
          "Papua New Guinea",
          "Paraguay",
          "Peru",
          "Philippines",
          "Poland",
          "Portugal",
          "Puerto Rico",
          "Romania",
          "Rwanda",
          "Samoa",
          "San Marino",
          "Sao Tome and Principe",
          "Saudi Arabia",
          "Senegal",
          "Serbia",
          "Seychelles",
          "Sierra Leone",
          "Singapore",
          "Slovenia",
          "Solomon Islands",
          "South Africa",
          "Spain",
          "Sri Lanka",
          "Suriname",
          "Sweden",
          "Switzerland",
          "Tajikistan",
          "Thailand",
          "Togo",
          "Tonga",
          "Trinidad and Tobago",
          "Tunisia",
          "Uganda",
          "Ukraine",
          "United Arab Emirates",
          "United Kingdom",
          "United States",
          "Uruguay",
          "Uzbekistan",
          "Vanuatu",
          "Zambia",
          "Zimbabwe"
         ],
         "legendgroup": "Protections Exist",
         "marker": {
          "color": "#00cc96",
          "symbol": "circle"
         },
         "mode": "markers",
         "name": "Protections Exist",
         "orientation": "v",
         "showlegend": true,
         "type": "scatter",
         "x": [
          -0.5700726153557958,
          -0.3763271704346929,
          -0.9063374548082608,
          -0.13150282356302936,
          -1.013087516248809,
          -0.03824750023233394,
          1.5596619255694972,
          1.1099333771388697,
          -0.1249608492044593,
          1.1369596404683704,
          -0.9466929142535362,
          -0.22540192131513992,
          -0.5598580612026769,
          2.4320927591012516,
          -0.02000722495890731,
          -0.7813471180942859,
          -0.8310035851327674,
          -0.38695864516549006,
          -0.3747882430082626,
          -0.6334997238275936,
          -0.16713113939962845,
          -0.09639565844852822,
          -0.783327490838258,
          -0.8447864889360155,
          -0.6238124515815384,
          2.788707001455398,
          -0.6993486503609052,
          -0.6469883307524805,
          0.07833698189345009,
          1.17859651757151,
          -0.47028144885149603,
          -0.7329352816038737,
          1.3816184453459557,
          0.10597636371953652,
          0.13127363288866534,
          2.036999199901382,
          -0.23547545821404414,
          -0.7764115141967706,
          -0.8851848666760518,
          -0.30817291835421873,
          -0.17941803407120727,
          -0.9924867347635273,
          0.10821424623207462,
          1.5182457711251285,
          1.2304847359375637,
          -0.5896862760615745,
          0.33541756751186286,
          1.2071494459575094,
          -0.8515062676585956,
          0.29330245798138666,
          0.18641137928662357,
          -0.33107289420169717,
          -0.7892563467002424,
          -0.6323164051291832,
          -0.4539602344723829,
          -0.32812379423311966,
          1.7771657122332989,
          -0.8796177507270531,
          -0.6644499455352432,
          0.7716145907228424,
          1.045120620864788,
          -0.7338120410539913,
          0.8559367775582833,
          0.11267161770225316,
          -0.6509061579456636,
          -0.5514031571347592,
          0.27211308273938223,
          -0.066559656984724,
          -0.6188216670193303,
          -0.7492871519078161,
          -0.8756815299789723,
          -0.5265199514111146,
          1.8423034213105707,
          -0.9268891868138157,
          -0.9995375974742636,
          -0.3227835321278576,
          -0.4065109940216103,
          1.6413906211643803,
          0.18845306388025415,
          -0.5279575058253194,
          -0.049455306349921783,
          -0.27219512497456577,
          -0.7644802282532115,
          0.5266247018571009,
          -0.07871945219196055,
          -0.7436035434444661,
          -0.5770805597717712,
          -0.7427942270289729,
          1.8358227588016593,
          1.4921943662051993,
          -0.8053507072356187,
          -0.8416779781583256,
          1.6292937932267435,
          -0.9302797320999352,
          0.37851979782184253,
          0.07809173449481573,
          -0.46086394874393866,
          -0.45551142426874486,
          0.03876631412380444,
          -0.633873726110511,
          -0.16312747561692342,
          0.4747794017858083,
          -0.17144749361559225,
          -0.01395574539760584,
          -0.7585758971310904,
          -0.5848978206032397,
          1.6478712836732918,
          -0.9244295822593575,
          1.2736728028370654,
          -0.7783857557557767,
          -0.393984983136363,
          -0.3164868051679217,
          -0.9279744065527726,
          2.3816147132773455,
          0.10535098285301904,
          -0.685308236789091,
          -0.19692869833369678,
          0.5007020518214547,
          -0.9276187978247529,
          -1.0057914061394384,
          1.1070026707251897,
          4.949974226660097,
          -0.49224335339919834,
          0.4105736328233467,
          -0.5975893734825651,
          -0.6710838876683013,
          -0.3093317123127659,
          -0.41342697066309775,
          -0.6851120388701837,
          -0.7553018443593225,
          0.957456938222955,
          2.781944304438057,
          3.1902812231641793,
          -0.6063692303536734,
          -1.0210764502593217,
          -0.6204096439254875,
          -1.0805419947054578,
          -0.7401749602868184
         ],
         "xaxis": "x",
         "y": [
          -1.2966023495488306,
          null,
          1.2959967789494733,
          null,
          0.15525316241021966,
          -1.607714244968627,
          -0.25956269814950894,
          -1.0891944192689662,
          -1.1928983844088983,
          null,
          2.5404443606286593,
          null,
          null,
          -0.3632666632894411,
          -0.1558587330095768,
          0.051549197270287506,
          -0.3632666632894411,
          1.710812639509202,
          -1.4003063146887627,
          0.8811809183897448,
          -0.25956269814950894,
          -0.6743785587092376,
          -0.6743785587092376,
          1.5034047092293377,
          -0.6743785587092376,
          0.020438007728307783,
          0.36266109269008395,
          0.36266109269008395,
          -0.46697062842937326,
          null,
          0.46636505783001614,
          -0.985490454129034,
          0.15525316241021966,
          -1.2966023495488306,
          -0.985490454129034,
          -0.25956269814950894,
          null,
          null,
          -0.6743785587092376,
          0.7774769532498126,
          -0.46697062842937326,
          1.1922928138095412,
          2.7478522909085235,
          -0.25956269814950894,
          -0.3632666632894411,
          1.6071086743692697,
          -1.607714244968627,
          -0.46697062842937326,
          -0.1558587330095768,
          -0.7780825238491698,
          0.2589571275501518,
          -0.46697062842937326,
          null,
          0.5700690229699483,
          -0.881786488989102,
          -0.6743785587092376,
          -0.46697062842937326,
          0.984884883529677,
          -0.3632666632894411,
          -0.985490454129034,
          -0.985490454129034,
          -0.1558587330095768,
          -0.5706745935693054,
          -0.1558587330095768,
          -0.985490454129034,
          1.2959967789494733,
          null,
          -0.05215476786964465,
          -0.736600937793197,
          1.5034047092293377,
          1.8145166046491341,
          -0.3632666632894411,
          -0.5706745935693054,
          0.2589571275501518,
          0.46636505783001614,
          -0.6743785587092376,
          -0.6743785587092376,
          -0.881786488989102,
          null,
          null,
          -0.1558587330095768,
          0.15525316241021966,
          0.15525316241021966,
          -0.985490454129034,
          2.1256285000689306,
          0.46636505783001614,
          0.15525316241021966,
          0.15525316241021966,
          -0.46697062842937326,
          -0.25956269814950894,
          -0.25956269814950894,
          -0.1558587330095768,
          -0.5706745935693054,
          0.36266109269008395,
          null,
          -0.985490454129034,
          2.6441483257685916,
          -0.7780825238491698,
          1.2959967789494733,
          -1.1928983844088983,
          -1.2966023495488306,
          -0.7780825238491698,
          null,
          -0.7780825238491698,
          1.2959967789494733,
          1.5034047092293377,
          null,
          0.15525316241021966,
          1.8145166046491341,
          -0.1558587330095768,
          -0.881786488989102,
          null,
          1.0885888486696091,
          -1.5040102798286947,
          -0.7780825238491698,
          2.5404443606286593,
          -0.1558587330095768,
          -1.0891944192689662,
          -0.1558587330095768,
          0.2589571275501518,
          -0.46697062842937326,
          -1.4003063146887627,
          -0.1558587330095768,
          -0.1558587330095768,
          -0.05215476786964465,
          null,
          0.2589571275501518,
          -0.05215476786964465,
          2.0219245349289983,
          -0.7780825238491698,
          null,
          -0.1558587330095768,
          0.051549197270287506,
          -0.7780825238491698,
          null,
          null,
          1.6071086743692697,
          0.984884883529677
         ],
         "yaxis": "y"
        },
        {
         "customdata": [
          [
           "No Data"
          ],
          [
           "No Data"
          ],
          [
           "No Data"
          ],
          [
           "No Data"
          ],
          [
           "No Data"
          ],
          [
           "No Data"
          ],
          [
           "No Data"
          ],
          [
           "No Data"
          ],
          [
           "No Data"
          ],
          [
           "No Data"
          ],
          [
           "No Data"
          ],
          [
           "No Data"
          ],
          [
           "No Data"
          ],
          [
           "No Data"
          ],
          [
           "No Data"
          ],
          [
           "No Data"
          ],
          [
           "No Data"
          ]
         ],
         "hovertemplate": "<b>%{hovertext}</b><br><br>lawStatus=%{customdata[0]}<br>Median Salary=%{x}<br>Observed Violence=%{y}<extra></extra>",
         "hovertext": [
          "American Samoa",
          "Andorra",
          "Aruba",
          "Bermuda",
          "Cayman Islands",
          "Cuba",
          "Faroe Islands",
          "French Polynesia",
          "Gibraltar",
          "Greenland",
          "Guam",
          "Liechtenstein",
          "Monaco",
          "New Caledonia",
          "Northern Mariana Islands",
          "Turkmenistan",
          "Turks and Caicos Islands"
         ],
         "legendgroup": "No Data",
         "marker": {
          "color": "#ab63fa",
          "symbol": "circle"
         },
         "mode": "markers",
         "name": "No Data",
         "orientation": "v",
         "showlegend": true,
         "type": "scatter",
         "visible": true,
         "x": [
          -0.22846751379806876,
          1.1682654709040399,
          -0.4025011990539393,
          -0.19781158896878032,
          1.022888944178588,
          -0.6004281121217573,
          1.0556601278210975,
          -0.38557912854817206,
          1.1063343715639113,
          1.0817115327410267,
          -0.30204173338836104,
          2.122253326851633,
          1.440471689833224,
          -0.6734076067703614,
          0.035173439733811894,
          -0.257369919727122,
          -0.2529922536614995
         ],
         "xaxis": "x",
         "y": [
          null,
          null,
          null,
          null,
          null,
          -1.1928983844088983,
          null,
          null,
          null,
          null,
          null,
          null,
          null,
          null,
          null,
          -1.4003063146887627,
          null
         ],
         "yaxis": "y"
        }
       ],
       "layout": {
        "autosize": true,
        "legend": {
         "title": {
          "text": "lawStatus"
         },
         "tracegroupgap": 0
        },
        "margin": {
         "t": 60
        },
        "template": {
         "data": {
          "bar": [
           {
            "error_x": {
             "color": "#2a3f5f"
            },
            "error_y": {
             "color": "#2a3f5f"
            },
            "marker": {
             "line": {
              "color": "#E5ECF6",
              "width": 0.5
             },
             "pattern": {
              "fillmode": "overlay",
              "size": 10,
              "solidity": 0.2
             }
            },
            "type": "bar"
           }
          ],
          "barpolar": [
           {
            "marker": {
             "line": {
              "color": "#E5ECF6",
              "width": 0.5
             },
             "pattern": {
              "fillmode": "overlay",
              "size": 10,
              "solidity": 0.2
             }
            },
            "type": "barpolar"
           }
          ],
          "carpet": [
           {
            "aaxis": {
             "endlinecolor": "#2a3f5f",
             "gridcolor": "white",
             "linecolor": "white",
             "minorgridcolor": "white",
             "startlinecolor": "#2a3f5f"
            },
            "baxis": {
             "endlinecolor": "#2a3f5f",
             "gridcolor": "white",
             "linecolor": "white",
             "minorgridcolor": "white",
             "startlinecolor": "#2a3f5f"
            },
            "type": "carpet"
           }
          ],
          "choropleth": [
           {
            "colorbar": {
             "outlinewidth": 0,
             "ticks": ""
            },
            "type": "choropleth"
           }
          ],
          "contour": [
           {
            "colorbar": {
             "outlinewidth": 0,
             "ticks": ""
            },
            "colorscale": [
             [
              0,
              "#0d0887"
             ],
             [
              0.1111111111111111,
              "#46039f"
             ],
             [
              0.2222222222222222,
              "#7201a8"
             ],
             [
              0.3333333333333333,
              "#9c179e"
             ],
             [
              0.4444444444444444,
              "#bd3786"
             ],
             [
              0.5555555555555556,
              "#d8576b"
             ],
             [
              0.6666666666666666,
              "#ed7953"
             ],
             [
              0.7777777777777778,
              "#fb9f3a"
             ],
             [
              0.8888888888888888,
              "#fdca26"
             ],
             [
              1,
              "#f0f921"
             ]
            ],
            "type": "contour"
           }
          ],
          "contourcarpet": [
           {
            "colorbar": {
             "outlinewidth": 0,
             "ticks": ""
            },
            "type": "contourcarpet"
           }
          ],
          "heatmap": [
           {
            "colorbar": {
             "outlinewidth": 0,
             "ticks": ""
            },
            "colorscale": [
             [
              0,
              "#0d0887"
             ],
             [
              0.1111111111111111,
              "#46039f"
             ],
             [
              0.2222222222222222,
              "#7201a8"
             ],
             [
              0.3333333333333333,
              "#9c179e"
             ],
             [
              0.4444444444444444,
              "#bd3786"
             ],
             [
              0.5555555555555556,
              "#d8576b"
             ],
             [
              0.6666666666666666,
              "#ed7953"
             ],
             [
              0.7777777777777778,
              "#fb9f3a"
             ],
             [
              0.8888888888888888,
              "#fdca26"
             ],
             [
              1,
              "#f0f921"
             ]
            ],
            "type": "heatmap"
           }
          ],
          "heatmapgl": [
           {
            "colorbar": {
             "outlinewidth": 0,
             "ticks": ""
            },
            "colorscale": [
             [
              0,
              "#0d0887"
             ],
             [
              0.1111111111111111,
              "#46039f"
             ],
             [
              0.2222222222222222,
              "#7201a8"
             ],
             [
              0.3333333333333333,
              "#9c179e"
             ],
             [
              0.4444444444444444,
              "#bd3786"
             ],
             [
              0.5555555555555556,
              "#d8576b"
             ],
             [
              0.6666666666666666,
              "#ed7953"
             ],
             [
              0.7777777777777778,
              "#fb9f3a"
             ],
             [
              0.8888888888888888,
              "#fdca26"
             ],
             [
              1,
              "#f0f921"
             ]
            ],
            "type": "heatmapgl"
           }
          ],
          "histogram": [
           {
            "marker": {
             "pattern": {
              "fillmode": "overlay",
              "size": 10,
              "solidity": 0.2
             }
            },
            "type": "histogram"
           }
          ],
          "histogram2d": [
           {
            "colorbar": {
             "outlinewidth": 0,
             "ticks": ""
            },
            "colorscale": [
             [
              0,
              "#0d0887"
             ],
             [
              0.1111111111111111,
              "#46039f"
             ],
             [
              0.2222222222222222,
              "#7201a8"
             ],
             [
              0.3333333333333333,
              "#9c179e"
             ],
             [
              0.4444444444444444,
              "#bd3786"
             ],
             [
              0.5555555555555556,
              "#d8576b"
             ],
             [
              0.6666666666666666,
              "#ed7953"
             ],
             [
              0.7777777777777778,
              "#fb9f3a"
             ],
             [
              0.8888888888888888,
              "#fdca26"
             ],
             [
              1,
              "#f0f921"
             ]
            ],
            "type": "histogram2d"
           }
          ],
          "histogram2dcontour": [
           {
            "colorbar": {
             "outlinewidth": 0,
             "ticks": ""
            },
            "colorscale": [
             [
              0,
              "#0d0887"
             ],
             [
              0.1111111111111111,
              "#46039f"
             ],
             [
              0.2222222222222222,
              "#7201a8"
             ],
             [
              0.3333333333333333,
              "#9c179e"
             ],
             [
              0.4444444444444444,
              "#bd3786"
             ],
             [
              0.5555555555555556,
              "#d8576b"
             ],
             [
              0.6666666666666666,
              "#ed7953"
             ],
             [
              0.7777777777777778,
              "#fb9f3a"
             ],
             [
              0.8888888888888888,
              "#fdca26"
             ],
             [
              1,
              "#f0f921"
             ]
            ],
            "type": "histogram2dcontour"
           }
          ],
          "mesh3d": [
           {
            "colorbar": {
             "outlinewidth": 0,
             "ticks": ""
            },
            "type": "mesh3d"
           }
          ],
          "parcoords": [
           {
            "line": {
             "colorbar": {
              "outlinewidth": 0,
              "ticks": ""
             }
            },
            "type": "parcoords"
           }
          ],
          "pie": [
           {
            "automargin": true,
            "type": "pie"
           }
          ],
          "scatter": [
           {
            "fillpattern": {
             "fillmode": "overlay",
             "size": 10,
             "solidity": 0.2
            },
            "type": "scatter"
           }
          ],
          "scatter3d": [
           {
            "line": {
             "colorbar": {
              "outlinewidth": 0,
              "ticks": ""
             }
            },
            "marker": {
             "colorbar": {
              "outlinewidth": 0,
              "ticks": ""
             }
            },
            "type": "scatter3d"
           }
          ],
          "scattercarpet": [
           {
            "marker": {
             "colorbar": {
              "outlinewidth": 0,
              "ticks": ""
             }
            },
            "type": "scattercarpet"
           }
          ],
          "scattergeo": [
           {
            "marker": {
             "colorbar": {
              "outlinewidth": 0,
              "ticks": ""
             }
            },
            "type": "scattergeo"
           }
          ],
          "scattergl": [
           {
            "marker": {
             "colorbar": {
              "outlinewidth": 0,
              "ticks": ""
             }
            },
            "type": "scattergl"
           }
          ],
          "scattermapbox": [
           {
            "marker": {
             "colorbar": {
              "outlinewidth": 0,
              "ticks": ""
             }
            },
            "type": "scattermapbox"
           }
          ],
          "scatterpolar": [
           {
            "marker": {
             "colorbar": {
              "outlinewidth": 0,
              "ticks": ""
             }
            },
            "type": "scatterpolar"
           }
          ],
          "scatterpolargl": [
           {
            "marker": {
             "colorbar": {
              "outlinewidth": 0,
              "ticks": ""
             }
            },
            "type": "scatterpolargl"
           }
          ],
          "scatterternary": [
           {
            "marker": {
             "colorbar": {
              "outlinewidth": 0,
              "ticks": ""
             }
            },
            "type": "scatterternary"
           }
          ],
          "surface": [
           {
            "colorbar": {
             "outlinewidth": 0,
             "ticks": ""
            },
            "colorscale": [
             [
              0,
              "#0d0887"
             ],
             [
              0.1111111111111111,
              "#46039f"
             ],
             [
              0.2222222222222222,
              "#7201a8"
             ],
             [
              0.3333333333333333,
              "#9c179e"
             ],
             [
              0.4444444444444444,
              "#bd3786"
             ],
             [
              0.5555555555555556,
              "#d8576b"
             ],
             [
              0.6666666666666666,
              "#ed7953"
             ],
             [
              0.7777777777777778,
              "#fb9f3a"
             ],
             [
              0.8888888888888888,
              "#fdca26"
             ],
             [
              1,
              "#f0f921"
             ]
            ],
            "type": "surface"
           }
          ],
          "table": [
           {
            "cells": {
             "fill": {
              "color": "#EBF0F8"
             },
             "line": {
              "color": "white"
             }
            },
            "header": {
             "fill": {
              "color": "#C8D4E3"
             },
             "line": {
              "color": "white"
             }
            },
            "type": "table"
           }
          ]
         },
         "layout": {
          "annotationdefaults": {
           "arrowcolor": "#2a3f5f",
           "arrowhead": 0,
           "arrowwidth": 1
          },
          "autotypenumbers": "strict",
          "coloraxis": {
           "colorbar": {
            "outlinewidth": 0,
            "ticks": ""
           }
          },
          "colorscale": {
           "diverging": [
            [
             0,
             "#8e0152"
            ],
            [
             0.1,
             "#c51b7d"
            ],
            [
             0.2,
             "#de77ae"
            ],
            [
             0.3,
             "#f1b6da"
            ],
            [
             0.4,
             "#fde0ef"
            ],
            [
             0.5,
             "#f7f7f7"
            ],
            [
             0.6,
             "#e6f5d0"
            ],
            [
             0.7,
             "#b8e186"
            ],
            [
             0.8,
             "#7fbc41"
            ],
            [
             0.9,
             "#4d9221"
            ],
            [
             1,
             "#276419"
            ]
           ],
           "sequential": [
            [
             0,
             "#0d0887"
            ],
            [
             0.1111111111111111,
             "#46039f"
            ],
            [
             0.2222222222222222,
             "#7201a8"
            ],
            [
             0.3333333333333333,
             "#9c179e"
            ],
            [
             0.4444444444444444,
             "#bd3786"
            ],
            [
             0.5555555555555556,
             "#d8576b"
            ],
            [
             0.6666666666666666,
             "#ed7953"
            ],
            [
             0.7777777777777778,
             "#fb9f3a"
            ],
            [
             0.8888888888888888,
             "#fdca26"
            ],
            [
             1,
             "#f0f921"
            ]
           ],
           "sequentialminus": [
            [
             0,
             "#0d0887"
            ],
            [
             0.1111111111111111,
             "#46039f"
            ],
            [
             0.2222222222222222,
             "#7201a8"
            ],
            [
             0.3333333333333333,
             "#9c179e"
            ],
            [
             0.4444444444444444,
             "#bd3786"
            ],
            [
             0.5555555555555556,
             "#d8576b"
            ],
            [
             0.6666666666666666,
             "#ed7953"
            ],
            [
             0.7777777777777778,
             "#fb9f3a"
            ],
            [
             0.8888888888888888,
             "#fdca26"
            ],
            [
             1,
             "#f0f921"
            ]
           ]
          },
          "colorway": [
           "#636efa",
           "#EF553B",
           "#00cc96",
           "#ab63fa",
           "#FFA15A",
           "#19d3f3",
           "#FF6692",
           "#B6E880",
           "#FF97FF",
           "#FECB52"
          ],
          "font": {
           "color": "#2a3f5f"
          },
          "geo": {
           "bgcolor": "white",
           "lakecolor": "white",
           "landcolor": "#E5ECF6",
           "showlakes": true,
           "showland": true,
           "subunitcolor": "white"
          },
          "hoverlabel": {
           "align": "left"
          },
          "hovermode": "closest",
          "mapbox": {
           "style": "light"
          },
          "paper_bgcolor": "white",
          "plot_bgcolor": "#E5ECF6",
          "polar": {
           "angularaxis": {
            "gridcolor": "white",
            "linecolor": "white",
            "ticks": ""
           },
           "bgcolor": "#E5ECF6",
           "radialaxis": {
            "gridcolor": "white",
            "linecolor": "white",
            "ticks": ""
           }
          },
          "scene": {
           "xaxis": {
            "backgroundcolor": "#E5ECF6",
            "gridcolor": "white",
            "gridwidth": 2,
            "linecolor": "white",
            "showbackground": true,
            "ticks": "",
            "zerolinecolor": "white"
           },
           "yaxis": {
            "backgroundcolor": "#E5ECF6",
            "gridcolor": "white",
            "gridwidth": 2,
            "linecolor": "white",
            "showbackground": true,
            "ticks": "",
            "zerolinecolor": "white"
           },
           "zaxis": {
            "backgroundcolor": "#E5ECF6",
            "gridcolor": "white",
            "gridwidth": 2,
            "linecolor": "white",
            "showbackground": true,
            "ticks": "",
            "zerolinecolor": "white"
           }
          },
          "shapedefaults": {
           "line": {
            "color": "#2a3f5f"
           }
          },
          "ternary": {
           "aaxis": {
            "gridcolor": "white",
            "linecolor": "white",
            "ticks": ""
           },
           "baxis": {
            "gridcolor": "white",
            "linecolor": "white",
            "ticks": ""
           },
           "bgcolor": "#E5ECF6",
           "caxis": {
            "gridcolor": "white",
            "linecolor": "white",
            "ticks": ""
           }
          },
          "title": {
           "x": 0.05
          },
          "xaxis": {
           "automargin": true,
           "gridcolor": "white",
           "linecolor": "white",
           "ticks": "",
           "title": {
            "standoff": 15
           },
           "zerolinecolor": "white",
           "zerolinewidth": 2
          },
          "yaxis": {
           "automargin": true,
           "gridcolor": "white",
           "linecolor": "white",
           "ticks": "",
           "title": {
            "standoff": 15
           },
           "zerolinecolor": "white",
           "zerolinewidth": 2
          }
         }
        },
        "xaxis": {
         "anchor": "y",
         "autorange": true,
         "domain": [
          0,
          1
         ],
         "range": [
          -1.449715463617699,
          5.3191476955723385
         ],
         "title": {
          "text": "Median Salary"
         },
         "type": "linear"
        },
        "yaxis": {
         "anchor": "x",
         "autorange": true,
         "domain": [
          0,
          1
         ],
         "range": [
          -2.079036518029799,
          3.094729805801777
         ],
         "title": {
          "text": "Observed Violence"
         },
         "type": "linear"
        }
       }
      },
      "image/png": "[encoded data removed]",
      "text/html": [
       "<div>                            <div id=\"323f09ff-9875-4b0a-89ad-f1014baa3fb5\" class=\"plotly-graph-div\" style=\"height:525px; width:100%;\"></div>            <script type=\"text/javascript\">                require([\"plotly\"], function(Plotly) {                    window.PLOTLYENV=window.PLOTLYENV || {};                                    if (document.getElementById(\"323f09ff-9875-4b0a-89ad-f1014baa3fb5\")) {                    Plotly.newPlot(                        \"323f09ff-9875-4b0a-89ad-f1014baa3fb5\",                        [{\"customdata\":[[\"No Protections Exist\"],[\"No Protections Exist\"],[\"No Protections Exist\"],[\"No Protections Exist\"],[\"No Protections Exist\"],[\"No Protections Exist\"],[\"No Protections Exist\"],[\"No Protections Exist\"],[\"No Protections Exist\"],[\"No Protections Exist\"],[\"No Protections Exist\"],[\"No Protections Exist\"],[\"No Protections Exist\"],[\"No Protections Exist\"],[\"No Protections Exist\"],[\"No Protections Exist\"],[\"No Protections Exist\"],[\"No Protections Exist\"]],\"hovertemplate\":\"\\u003cb\\u003e%{hovertext}\\u003c\\u002fb\\u003e\\u003cbr\\u003e\\u003cbr\\u003elawStatus=%{customdata[0]}\\u003cbr\\u003eMedian Salary=%{x}\\u003cbr\\u003eObserved Violence=%{y}\\u003cextra\\u003e\\u003c\\u002fextra\\u003e\",\"hovertext\":[\"Afghanistan\",\"Cameroon\",\"Equatorial Guinea\",\"Eritrea\",\"Estonia\",\"Guinea\",\"Haiti\",\"Iraq\",\"Libya\",\"Mali\",\"Mauritania\",\"Myanmar\",\"Niger\",\"Oman\",\"Qatar\",\"Somalia\",\"Sudan\",\"Tanzania\"],\"legendgroup\":\"No Protections Exist\",\"marker\":{\"color\":\"#636efa\",\"symbol\":\"circle\"},\"mode\":\"markers\",\"name\":\"No Protections Exist\",\"orientation\":\"v\",\"showlegend\":true,\"x\":[-0.5572584387771533,-0.6924326737194177,-0.668723381456446,-0.8342285884248085,0.5007020518214547,-0.6535364362960165,-0.8078951489964498,-0.23313947674205227,-0.8249214496466365,-0.7872759739562704,-1.0533430110150455,-0.9406291723223029,-0.7862888531767672,1.330257508886966,1.2774434815910676,-0.8402616744312125,-1.0392492824981239,-0.8000349698702203],\"xaxis\":\"x\",\"y\":[2.1256285000689306,1.3997007440894056,2.1256285000689306,null,-0.46697062842937326,1.1922928138095412,-0.25956269814950894,0.051549197270287506,null,0.36266109269008395,-1.7321590031365455,-0.6743785587092376,null,null,-0.1558587330095768,null,null,1.2959967789494733],\"yaxis\":\"y\",\"type\":\"scatter\"},{\"customdata\":[[\"Protections Exist\"],[\"Protections Exist\"],[\"Protections Exist\"],[\"Protections Exist\"],[\"Protections Exist\"],[\"Protections Exist\"],[\"Protections Exist\"],[\"Protections Exist\"],[\"Protections Exist\"],[\"Protections Exist\"],[\"Protections Exist\"],[\"Protections Exist\"],[\"Protections Exist\"],[\"Protections Exist\"],[\"Protections Exist\"],[\"Protections Exist\"],[\"Protections Exist\"],[\"Protections Exist\"],[\"Protections Exist\"],[\"Protections Exist\"],[\"Protections Exist\"],[\"Protections Exist\"],[\"Protections Exist\"],[\"Protections Exist\"],[\"Protections Exist\"],[\"Protections Exist\"],[\"Protections Exist\"],[\"Protections Exist\"],[\"Protections Exist\"],[\"Protections Exist\"],[\"Protections Exist\"],[\"Protections Exist\"],[\"Protections Exist\"],[\"Protections Exist\"],[\"Protections Exist\"],[\"Protections Exist\"],[\"Protections Exist\"],[\"Protections Exist\"],[\"Protections Exist\"],[\"Protections Exist\"],[\"Protections Exist\"],[\"Protections Exist\"],[\"Protections Exist\"],[\"Protections Exist\"],[\"Protections Exist\"],[\"Protections Exist\"],[\"Protections Exist\"],[\"Protections Exist\"],[\"Protections Exist\"],[\"Protections Exist\"],[\"Protections Exist\"],[\"Protections Exist\"],[\"Protections Exist\"],[\"Protections Exist\"],[\"Protections Exist\"],[\"Protections Exist\"],[\"Protections Exist\"],[\"Protections Exist\"],[\"Protections Exist\"],[\"Protections Exist\"],[\"Protections Exist\"],[\"Protections Exist\"],[\"Protections Exist\"],[\"Protections Exist\"],[\"Protections Exist\"],[\"Protections Exist\"],[\"Protections Exist\"],[\"Protections Exist\"],[\"Protections Exist\"],[\"Protections Exist\"],[\"Protections Exist\"],[\"Protections Exist\"],[\"Protections Exist\"],[\"Protections Exist\"],[\"Protections Exist\"],[\"Protections Exist\"],[\"Protections Exist\"],[\"Protections Exist\"],[\"Protections Exist\"],[\"Protections Exist\"],[\"Protections Exist\"],[\"Protections Exist\"],[\"Protections Exist\"],[\"Protections Exist\"],[\"Protections Exist\"],[\"Protections Exist\"],[\"Protections Exist\"],[\"Protections Exist\"],[\"Protections Exist\"],[\"Protections Exist\"],[\"Protections Exist\"],[\"Protections Exist\"],[\"Protections Exist\"],[\"Protections Exist\"],[\"Protections Exist\"],[\"Protections Exist\"],[\"Protections Exist\"],[\"Protections Exist\"],[\"Protections Exist\"],[\"Protections Exist\"],[\"Protections Exist\"],[\"Protections Exist\"],[\"Protections Exist\"],[\"Protections Exist\"],[\"Protections Exist\"],[\"Protections Exist\"],[\"Protections Exist\"],[\"Protections Exist\"],[\"Protections Exist\"],[\"Protections Exist\"],[\"Protections Exist\"],[\"Protections Exist\"],[\"Protections Exist\"],[\"Protections Exist\"],[\"Protections Exist\"],[\"Protections Exist\"],[\"Protections Exist\"],[\"Protections Exist\"],[\"Protections Exist\"],[\"Protections Exist\"],[\"Protections Exist\"],[\"Protections Exist\"],[\"Protections Exist\"],[\"Protections Exist\"],[\"Protections Exist\"],[\"Protections Exist\"],[\"Protections Exist\"],[\"Protections Exist\"],[\"Protections Exist\"],[\"Protections Exist\"],[\"Protections Exist\"],[\"Protections Exist\"],[\"Protections Exist\"],[\"Protections Exist\"],[\"Protections Exist\"],[\"Protections Exist\"],[\"Protections Exist\"],[\"Protections Exist\"]],\"hovertemplate\":\"\\u003cb\\u003e%{hovertext}\\u003c\\u002fb\\u003e\\u003cbr\\u003e\\u003cbr\\u003elawStatus=%{customdata[0]}\\u003cbr\\u003eMedian Salary=%{x}\\u003cbr\\u003eObserved Violence=%{y}\\u003cextra\\u003e\\u003c\\u002fextra\\u003e\",\"hovertext\":[\"Albania\",\"Algeria\",\"Angola\",\"Antigua and Barbuda\",\"Argentina\",\"Armenia\",\"Australia\",\"Austria\",\"Azerbaijan\",\"Bahrain\",\"Bangladesh\",\"Barbados\",\"Belarus\",\"Belgium\",\"Belize\",\"Benin\",\"Bhutan\",\"Bolivia\",\"Bosnia and Herzegovina\",\"Botswana\",\"Brazil\",\"Bulgaria\",\"Burkina Faso\",\"Burundi\",\"Cambodia\",\"Canada\",\"Central African Republic\",\"Chad\",\"Chile\",\"China\",\"Colombia\",\"Comoros\",\"Costa Rica\",\"Croatia\",\"Cyprus\",\"Denmark\",\"Djibouti\",\"Dominica\",\"Dominican Republic\",\"Ecuador\",\"El Salvador\",\"Ethiopia\",\"Fiji\",\"Finland\",\"France\",\"Gabon\",\"Georgia\",\"Germany\",\"Ghana\",\"Greece\",\"Grenada\",\"Guatemala\",\"Guinea-Bissau\",\"Guyana\",\"Honduras\",\"Hungary\",\"Iceland\",\"India\",\"Indonesia\",\"Ireland\",\"Italy\",\"Jamaica\",\"Japan\",\"Jordan\",\"Kazakhstan\",\"Kenya\",\"Kiribati\",\"Latvia\",\"Lebanon\",\"Lesotho\",\"Liberia\",\"Lithuania\",\"Luxembourg\",\"Madagascar\",\"Malawi\",\"Malaysia\",\"Maldives\",\"Malta\",\"Marshall Islands\",\"Mauritius\",\"Mexico\",\"Moldova\",\"Mongolia\",\"Montenegro\",\"Morocco\",\"Mozambique\",\"Namibia\",\"Nepal\",\"Netherlands\",\"New Zealand\",\"Nicaragua\",\"Nigeria\",\"Norway\",\"Pakistan\",\"Palau\",\"Panama\",\"Papua New Guinea\",\"Paraguay\",\"Peru\",\"Philippines\",\"Poland\",\"Portugal\",\"Puerto Rico\",\"Romania\",\"Rwanda\",\"Samoa\",\"San Marino\",\"Sao Tome and Principe\",\"Saudi Arabia\",\"Senegal\",\"Serbia\",\"Seychelles\",\"Sierra Leone\",\"Singapore\",\"Slovenia\",\"Solomon Islands\",\"South Africa\",\"Spain\",\"Sri Lanka\",\"Suriname\",\"Sweden\",\"Switzerland\",\"Tajikistan\",\"Thailand\",\"Togo\",\"Tonga\",\"Trinidad and Tobago\",\"Tunisia\",\"Uganda\",\"Ukraine\",\"United Arab Emirates\",\"United Kingdom\",\"United States\",\"Uruguay\",\"Uzbekistan\",\"Vanuatu\",\"Zambia\",\"Zimbabwe\"],\"legendgroup\":\"Protections Exist\",\"marker\":{\"color\":\"#00cc96\",\"symbol\":\"circle\"},\"mode\":\"markers\",\"name\":\"Protections Exist\",\"orientation\":\"v\",\"showlegend\":true,\"x\":[-0.5700726153557958,-0.3763271704346929,-0.9063374548082608,-0.13150282356302936,-1.013087516248809,-0.03824750023233394,1.5596619255694972,1.1099333771388697,-0.1249608492044593,1.1369596404683704,-0.9466929142535362,-0.22540192131513992,-0.5598580612026769,2.4320927591012516,-0.02000722495890731,-0.7813471180942859,-0.8310035851327674,-0.38695864516549006,-0.3747882430082626,-0.6334997238275936,-0.16713113939962845,-0.09639565844852822,-0.783327490838258,-0.8447864889360155,-0.6238124515815384,2.788707001455398,-0.6993486503609052,-0.6469883307524805,0.07833698189345009,1.17859651757151,-0.47028144885149603,-0.7329352816038737,1.3816184453459557,0.10597636371953652,0.13127363288866534,2.036999199901382,-0.23547545821404414,-0.7764115141967706,-0.8851848666760518,-0.30817291835421873,-0.17941803407120727,-0.9924867347635273,0.10821424623207462,1.5182457711251285,1.2304847359375637,-0.5896862760615745,0.33541756751186286,1.2071494459575094,-0.8515062676585956,0.29330245798138666,0.18641137928662357,-0.33107289420169717,-0.7892563467002424,-0.6323164051291832,-0.4539602344723829,-0.32812379423311966,1.7771657122332989,-0.8796177507270531,-0.6644499455352432,0.7716145907228424,1.045120620864788,-0.7338120410539913,0.8559367775582833,0.11267161770225316,-0.6509061579456636,-0.5514031571347592,0.27211308273938223,-0.066559656984724,-0.6188216670193303,-0.7492871519078161,-0.8756815299789723,-0.5265199514111146,1.8423034213105707,-0.9268891868138157,-0.9995375974742636,-0.3227835321278576,-0.4065109940216103,1.6413906211643803,0.18845306388025415,-0.5279575058253194,-0.049455306349921783,-0.27219512497456577,-0.7644802282532115,0.5266247018571009,-0.07871945219196055,-0.7436035434444661,-0.5770805597717712,-0.7427942270289729,1.8358227588016593,1.4921943662051993,-0.8053507072356187,-0.8416779781583256,1.6292937932267435,-0.9302797320999352,0.37851979782184253,0.07809173449481573,-0.46086394874393866,-0.45551142426874486,0.03876631412380444,-0.633873726110511,-0.16312747561692342,0.4747794017858083,-0.17144749361559225,-0.01395574539760584,-0.7585758971310904,-0.5848978206032397,1.6478712836732918,-0.9244295822593575,1.2736728028370654,-0.7783857557557767,-0.393984983136363,-0.3164868051679217,-0.9279744065527726,2.3816147132773455,0.10535098285301904,-0.685308236789091,-0.19692869833369678,0.5007020518214547,-0.9276187978247529,-1.0057914061394384,1.1070026707251897,4.949974226660097,-0.49224335339919834,0.4105736328233467,-0.5975893734825651,-0.6710838876683013,-0.3093317123127659,-0.41342697066309775,-0.6851120388701837,-0.7553018443593225,0.957456938222955,2.781944304438057,3.1902812231641793,-0.6063692303536734,-1.0210764502593217,-0.6204096439254875,-1.0805419947054578,-0.7401749602868184],\"xaxis\":\"x\",\"y\":[-1.2966023495488306,null,1.2959967789494733,null,0.15525316241021966,-1.607714244968627,-0.25956269814950894,-1.0891944192689662,-1.1928983844088983,null,2.5404443606286593,null,null,-0.3632666632894411,-0.1558587330095768,0.051549197270287506,-0.3632666632894411,1.710812639509202,-1.4003063146887627,0.8811809183897448,-0.25956269814950894,-0.6743785587092376,-0.6743785587092376,1.5034047092293377,-0.6743785587092376,0.020438007728307783,0.36266109269008395,0.36266109269008395,-0.46697062842937326,null,0.46636505783001614,-0.985490454129034,0.15525316241021966,-1.2966023495488306,-0.985490454129034,-0.25956269814950894,null,null,-0.6743785587092376,0.7774769532498126,-0.46697062842937326,1.1922928138095412,2.7478522909085235,-0.25956269814950894,-0.3632666632894411,1.6071086743692697,-1.607714244968627,-0.46697062842937326,-0.1558587330095768,-0.7780825238491698,0.2589571275501518,-0.46697062842937326,null,0.5700690229699483,-0.881786488989102,-0.6743785587092376,-0.46697062842937326,0.984884883529677,-0.3632666632894411,-0.985490454129034,-0.985490454129034,-0.1558587330095768,-0.5706745935693054,-0.1558587330095768,-0.985490454129034,1.2959967789494733,null,-0.05215476786964465,-0.736600937793197,1.5034047092293377,1.8145166046491341,-0.3632666632894411,-0.5706745935693054,0.2589571275501518,0.46636505783001614,-0.6743785587092376,-0.6743785587092376,-0.881786488989102,null,null,-0.1558587330095768,0.15525316241021966,0.15525316241021966,-0.985490454129034,2.1256285000689306,0.46636505783001614,0.15525316241021966,0.15525316241021966,-0.46697062842937326,-0.25956269814950894,-0.25956269814950894,-0.1558587330095768,-0.5706745935693054,0.36266109269008395,null,-0.985490454129034,2.6441483257685916,-0.7780825238491698,1.2959967789494733,-1.1928983844088983,-1.2966023495488306,-0.7780825238491698,null,-0.7780825238491698,1.2959967789494733,1.5034047092293377,null,0.15525316241021966,1.8145166046491341,-0.1558587330095768,-0.881786488989102,null,1.0885888486696091,-1.5040102798286947,-0.7780825238491698,2.5404443606286593,-0.1558587330095768,-1.0891944192689662,-0.1558587330095768,0.2589571275501518,-0.46697062842937326,-1.4003063146887627,-0.1558587330095768,-0.1558587330095768,-0.05215476786964465,null,0.2589571275501518,-0.05215476786964465,2.0219245349289983,-0.7780825238491698,null,-0.1558587330095768,0.051549197270287506,-0.7780825238491698,null,null,1.6071086743692697,0.984884883529677],\"yaxis\":\"y\",\"type\":\"scatter\"},{\"customdata\":[[\"No Data\"],[\"No Data\"],[\"No Data\"],[\"No Data\"],[\"No Data\"],[\"No Data\"],[\"No Data\"],[\"No Data\"],[\"No Data\"],[\"No Data\"],[\"No Data\"],[\"No Data\"],[\"No Data\"],[\"No Data\"],[\"No Data\"],[\"No Data\"],[\"No Data\"]],\"hovertemplate\":\"\\u003cb\\u003e%{hovertext}\\u003c\\u002fb\\u003e\\u003cbr\\u003e\\u003cbr\\u003elawStatus=%{customdata[0]}\\u003cbr\\u003eMedian Salary=%{x}\\u003cbr\\u003eObserved Violence=%{y}\\u003cextra\\u003e\\u003c\\u002fextra\\u003e\",\"hovertext\":[\"American Samoa\",\"Andorra\",\"Aruba\",\"Bermuda\",\"Cayman Islands\",\"Cuba\",\"Faroe Islands\",\"French Polynesia\",\"Gibraltar\",\"Greenland\",\"Guam\",\"Liechtenstein\",\"Monaco\",\"New Caledonia\",\"Northern Mariana Islands\",\"Turkmenistan\",\"Turks and Caicos Islands\"],\"legendgroup\":\"No Data\",\"marker\":{\"color\":\"#ab63fa\",\"symbol\":\"circle\"},\"mode\":\"markers\",\"name\":\"No Data\",\"orientation\":\"v\",\"showlegend\":true,\"x\":[-0.22846751379806876,1.1682654709040399,-0.4025011990539393,-0.19781158896878032,1.022888944178588,-0.6004281121217573,1.0556601278210975,-0.38557912854817206,1.1063343715639113,1.0817115327410267,-0.30204173338836104,2.122253326851633,1.440471689833224,-0.6734076067703614,0.035173439733811894,-0.257369919727122,-0.2529922536614995],\"xaxis\":\"x\",\"y\":[null,null,null,null,null,-1.1928983844088983,null,null,null,null,null,null,null,null,null,-1.4003063146887627,null],\"yaxis\":\"y\",\"type\":\"scatter\"}],                        {\"template\":{\"data\":{\"histogram2dcontour\":[{\"type\":\"histogram2dcontour\",\"colorbar\":{\"outlinewidth\":0,\"ticks\":\"\"},\"colorscale\":[[0.0,\"#0d0887\"],[0.1111111111111111,\"#46039f\"],[0.2222222222222222,\"#7201a8\"],[0.3333333333333333,\"#9c179e\"],[0.4444444444444444,\"#bd3786\"],[0.5555555555555556,\"#d8576b\"],[0.6666666666666666,\"#ed7953\"],[0.7777777777777778,\"#fb9f3a\"],[0.8888888888888888,\"#fdca26\"],[1.0,\"#f0f921\"]]}],\"choropleth\":[{\"type\":\"choropleth\",\"colorbar\":{\"outlinewidth\":0,\"ticks\":\"\"}}],\"histogram2d\":[{\"type\":\"histogram2d\",\"colorbar\":{\"outlinewidth\":0,\"ticks\":\"\"},\"colorscale\":[[0.0,\"#0d0887\"],[0.1111111111111111,\"#46039f\"],[0.2222222222222222,\"#7201a8\"],[0.3333333333333333,\"#9c179e\"],[0.4444444444444444,\"#bd3786\"],[0.5555555555555556,\"#d8576b\"],[0.6666666666666666,\"#ed7953\"],[0.7777777777777778,\"#fb9f3a\"],[0.8888888888888888,\"#fdca26\"],[1.0,\"#f0f921\"]]}],\"heatmap\":[{\"type\":\"heatmap\",\"colorbar\":{\"outlinewidth\":0,\"ticks\":\"\"},\"colorscale\":[[0.0,\"#0d0887\"],[0.1111111111111111,\"#46039f\"],[0.2222222222222222,\"#7201a8\"],[0.3333333333333333,\"#9c179e\"],[0.4444444444444444,\"#bd3786\"],[0.5555555555555556,\"#d8576b\"],[0.6666666666666666,\"#ed7953\"],[0.7777777777777778,\"#fb9f3a\"],[0.8888888888888888,\"#fdca26\"],[1.0,\"#f0f921\"]]}],\"heatmapgl\":[{\"type\":\"heatmapgl\",\"colorbar\":{\"outlinewidth\":0,\"ticks\":\"\"},\"colorscale\":[[0.0,\"#0d0887\"],[0.1111111111111111,\"#46039f\"],[0.2222222222222222,\"#7201a8\"],[0.3333333333333333,\"#9c179e\"],[0.4444444444444444,\"#bd3786\"],[0.5555555555555556,\"#d8576b\"],[0.6666666666666666,\"#ed7953\"],[0.7777777777777778,\"#fb9f3a\"],[0.8888888888888888,\"#fdca26\"],[1.0,\"#f0f921\"]]}],\"contourcarpet\":[{\"type\":\"contourcarpet\",\"colorbar\":{\"outlinewidth\":0,\"ticks\":\"\"}}],\"contour\":[{\"type\":\"contour\",\"colorbar\":{\"outlinewidth\":0,\"ticks\":\"\"},\"colorscale\":[[0.0,\"#0d0887\"],[0.1111111111111111,\"#46039f\"],[0.2222222222222222,\"#7201a8\"],[0.3333333333333333,\"#9c179e\"],[0.4444444444444444,\"#bd3786\"],[0.5555555555555556,\"#d8576b\"],[0.6666666666666666,\"#ed7953\"],[0.7777777777777778,\"#fb9f3a\"],[0.8888888888888888,\"#fdca26\"],[1.0,\"#f0f921\"]]}],\"surface\":[{\"type\":\"surface\",\"colorbar\":{\"outlinewidth\":0,\"ticks\":\"\"},\"colorscale\":[[0.0,\"#0d0887\"],[0.1111111111111111,\"#46039f\"],[0.2222222222222222,\"#7201a8\"],[0.3333333333333333,\"#9c179e\"],[0.4444444444444444,\"#bd3786\"],[0.5555555555555556,\"#d8576b\"],[0.6666666666666666,\"#ed7953\"],[0.7777777777777778,\"#fb9f3a\"],[0.8888888888888888,\"#fdca26\"],[1.0,\"#f0f921\"]]}],\"mesh3d\":[{\"type\":\"mesh3d\",\"colorbar\":{\"outlinewidth\":0,\"ticks\":\"\"}}],\"scatter\":[{\"fillpattern\":{\"fillmode\":\"overlay\",\"size\":10,\"solidity\":0.2},\"type\":\"scatter\"}],\"parcoords\":[{\"type\":\"parcoords\",\"line\":{\"colorbar\":{\"outlinewidth\":0,\"ticks\":\"\"}}}],\"scatterpolargl\":[{\"type\":\"scatterpolargl\",\"marker\":{\"colorbar\":{\"outlinewidth\":0,\"ticks\":\"\"}}}],\"bar\":[{\"error_x\":{\"color\":\"#2a3f5f\"},\"error_y\":{\"color\":\"#2a3f5f\"},\"marker\":{\"line\":{\"color\":\"#E5ECF6\",\"width\":0.5},\"pattern\":{\"fillmode\":\"overlay\",\"size\":10,\"solidity\":0.2}},\"type\":\"bar\"}],\"scattergeo\":[{\"type\":\"scattergeo\",\"marker\":{\"colorbar\":{\"outlinewidth\":0,\"ticks\":\"\"}}}],\"scatterpolar\":[{\"type\":\"scatterpolar\",\"marker\":{\"colorbar\":{\"outlinewidth\":0,\"ticks\":\"\"}}}],\"histogram\":[{\"marker\":{\"pattern\":{\"fillmode\":\"overlay\",\"size\":10,\"solidity\":0.2}},\"type\":\"histogram\"}],\"scattergl\":[{\"type\":\"scattergl\",\"marker\":{\"colorbar\":{\"outlinewidth\":0,\"ticks\":\"\"}}}],\"scatter3d\":[{\"type\":\"scatter3d\",\"line\":{\"colorbar\":{\"outlinewidth\":0,\"ticks\":\"\"}},\"marker\":{\"colorbar\":{\"outlinewidth\":0,\"ticks\":\"\"}}}],\"scattermapbox\":[{\"type\":\"scattermapbox\",\"marker\":{\"colorbar\":{\"outlinewidth\":0,\"ticks\":\"\"}}}],\"scatterternary\":[{\"type\":\"scatterternary\",\"marker\":{\"colorbar\":{\"outlinewidth\":0,\"ticks\":\"\"}}}],\"scattercarpet\":[{\"type\":\"scattercarpet\",\"marker\":{\"colorbar\":{\"outlinewidth\":0,\"ticks\":\"\"}}}],\"carpet\":[{\"aaxis\":{\"endlinecolor\":\"#2a3f5f\",\"gridcolor\":\"white\",\"linecolor\":\"white\",\"minorgridcolor\":\"white\",\"startlinecolor\":\"#2a3f5f\"},\"baxis\":{\"endlinecolor\":\"#2a3f5f\",\"gridcolor\":\"white\",\"linecolor\":\"white\",\"minorgridcolor\":\"white\",\"startlinecolor\":\"#2a3f5f\"},\"type\":\"carpet\"}],\"table\":[{\"cells\":{\"fill\":{\"color\":\"#EBF0F8\"},\"line\":{\"color\":\"white\"}},\"header\":{\"fill\":{\"color\":\"#C8D4E3\"},\"line\":{\"color\":\"white\"}},\"type\":\"table\"}],\"barpolar\":[{\"marker\":{\"line\":{\"color\":\"#E5ECF6\",\"width\":0.5},\"pattern\":{\"fillmode\":\"overlay\",\"size\":10,\"solidity\":0.2}},\"type\":\"barpolar\"}],\"pie\":[{\"automargin\":true,\"type\":\"pie\"}]},\"layout\":{\"autotypenumbers\":\"strict\",\"colorway\":[\"#636efa\",\"#EF553B\",\"#00cc96\",\"#ab63fa\",\"#FFA15A\",\"#19d3f3\",\"#FF6692\",\"#B6E880\",\"#FF97FF\",\"#FECB52\"],\"font\":{\"color\":\"#2a3f5f\"},\"hovermode\":\"closest\",\"hoverlabel\":{\"align\":\"left\"},\"paper_bgcolor\":\"white\",\"plot_bgcolor\":\"#E5ECF6\",\"polar\":{\"bgcolor\":\"#E5ECF6\",\"angularaxis\":{\"gridcolor\":\"white\",\"linecolor\":\"white\",\"ticks\":\"\"},\"radialaxis\":{\"gridcolor\":\"white\",\"linecolor\":\"white\",\"ticks\":\"\"}},\"ternary\":{\"bgcolor\":\"#E5ECF6\",\"aaxis\":{\"gridcolor\":\"white\",\"linecolor\":\"white\",\"ticks\":\"\"},\"baxis\":{\"gridcolor\":\"white\",\"linecolor\":\"white\",\"ticks\":\"\"},\"caxis\":{\"gridcolor\":\"white\",\"linecolor\":\"white\",\"ticks\":\"\"}},\"coloraxis\":{\"colorbar\":{\"outlinewidth\":0,\"ticks\":\"\"}},\"colorscale\":{\"sequential\":[[0.0,\"#0d0887\"],[0.1111111111111111,\"#46039f\"],[0.2222222222222222,\"#7201a8\"],[0.3333333333333333,\"#9c179e\"],[0.4444444444444444,\"#bd3786\"],[0.5555555555555556,\"#d8576b\"],[0.6666666666666666,\"#ed7953\"],[0.7777777777777778,\"#fb9f3a\"],[0.8888888888888888,\"#fdca26\"],[1.0,\"#f0f921\"]],\"sequentialminus\":[[0.0,\"#0d0887\"],[0.1111111111111111,\"#46039f\"],[0.2222222222222222,\"#7201a8\"],[0.3333333333333333,\"#9c179e\"],[0.4444444444444444,\"#bd3786\"],[0.5555555555555556,\"#d8576b\"],[0.6666666666666666,\"#ed7953\"],[0.7777777777777778,\"#fb9f3a\"],[0.8888888888888888,\"#fdca26\"],[1.0,\"#f0f921\"]],\"diverging\":[[0,\"#8e0152\"],[0.1,\"#c51b7d\"],[0.2,\"#de77ae\"],[0.3,\"#f1b6da\"],[0.4,\"#fde0ef\"],[0.5,\"#f7f7f7\"],[0.6,\"#e6f5d0\"],[0.7,\"#b8e186\"],[0.8,\"#7fbc41\"],[0.9,\"#4d9221\"],[1,\"#276419\"]]},\"xaxis\":{\"gridcolor\":\"white\",\"linecolor\":\"white\",\"ticks\":\"\",\"title\":{\"standoff\":15},\"zerolinecolor\":\"white\",\"automargin\":true,\"zerolinewidth\":2},\"yaxis\":{\"gridcolor\":\"white\",\"linecolor\":\"white\",\"ticks\":\"\",\"title\":{\"standoff\":15},\"zerolinecolor\":\"white\",\"automargin\":true,\"zerolinewidth\":2},\"scene\":{\"xaxis\":{\"backgroundcolor\":\"#E5ECF6\",\"gridcolor\":\"white\",\"linecolor\":\"white\",\"showbackground\":true,\"ticks\":\"\",\"zerolinecolor\":\"white\",\"gridwidth\":2},\"yaxis\":{\"backgroundcolor\":\"#E5ECF6\",\"gridcolor\":\"white\",\"linecolor\":\"white\",\"showbackground\":true,\"ticks\":\"\",\"zerolinecolor\":\"white\",\"gridwidth\":2},\"zaxis\":{\"backgroundcolor\":\"#E5ECF6\",\"gridcolor\":\"white\",\"linecolor\":\"white\",\"showbackground\":true,\"ticks\":\"\",\"zerolinecolor\":\"white\",\"gridwidth\":2}},\"shapedefaults\":{\"line\":{\"color\":\"#2a3f5f\"}},\"annotationdefaults\":{\"arrowcolor\":\"#2a3f5f\",\"arrowhead\":0,\"arrowwidth\":1},\"geo\":{\"bgcolor\":\"white\",\"landcolor\":\"#E5ECF6\",\"subunitcolor\":\"white\",\"showland\":true,\"showlakes\":true,\"lakecolor\":\"white\"},\"title\":{\"x\":0.05},\"mapbox\":{\"style\":\"light\"}}},\"xaxis\":{\"anchor\":\"y\",\"domain\":[0.0,1.0],\"title\":{\"text\":\"Median Salary\"}},\"yaxis\":{\"anchor\":\"x\",\"domain\":[0.0,1.0],\"title\":{\"text\":\"Observed Violence\"}},\"legend\":{\"title\":{\"text\":\"lawStatus\"},\"tracegroupgap\":0},\"margin\":{\"t\":60}},                        {\"responsive\": true}                    ).then(function(){\n",
       "                            \n",
       "var gd = document.getElementById('323f09ff-9875-4b0a-89ad-f1014baa3fb5');\n",
       "var x = new MutationObserver(function (mutations, observer) {{\n",
       "        var display = window.getComputedStyle(gd).display;\n",
       "        if (!display || display === 'none') {{\n",
       "            console.log([gd, 'removed!']);\n",
       "            Plotly.purge(gd);\n",
       "            observer.disconnect();\n",
       "        }}\n",
       "}});\n",
       "\n",
       "// Listen for the removal of the full notebook cells\n",
       "var notebookContainer = gd.closest('#notebook-container');\n",
       "if (notebookContainer) {{\n",
       "    x.observe(notebookContainer, {childList: true});\n",
       "}}\n",
       "\n",
       "// Listen for the clearing of the current output cell\n",
       "var outputEl = gd.closest('.output');\n",
       "if (outputEl) {{\n",
       "    x.observe(outputEl, {childList: true});\n",
       "}}\n",
       "\n",
       "                        })                };                });            </script>        </div>"
      ]
     },
     "metadata": {},
     "output_type": "display_data"
    }
   ],
   "source": [
    "df.rename(columns={'median_salary':'Median Salary', 'OBS_VALUE': 'Observed Violence'}, inplace=True)\n",
    "fig = px.scatter(df, x=\"Median Salary\", y=\"Observed Violence\", color='lawStatus', hover_name=\"country_name\", hover_data={'lawStatus':True, 'Observed Violence':True})\n",
    "fig.show()"
   ]
  }
 ],
 "metadata": {
  "kernelspec": {
   "display_name": "Python 3 (ipykernel)",
   "language": "python",
   "name": "python3"
  },
  "language_info": {
   "codemirror_mode": {
    "name": "ipython",
    "version": 3
   },
   "file_extension": ".py",
   "mimetype": "text/x-python",
   "name": "python",
   "nbconvert_exporter": "python",
   "pygments_lexer": "ipython3",
   "version": "3.12.4"
  }
 },
 "nbformat": 4,
 "nbformat_minor": 5
}
